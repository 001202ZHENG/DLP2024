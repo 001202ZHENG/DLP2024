{
  "cells": [
    {
      "cell_type": "markdown",
      "metadata": {
        "cell_ktag": "RS5AAWbGrQWk",
        "id": "nlCNZsWlOSfP"
      },
      "source": [
        "# Practical Session on Graph Neural Networks\n",
        "\n",
        "**by Matthieu Nastorg and Cyriaque Rousselot**"
      ]
    },
    {
      "cell_type": "markdown",
      "metadata": {
        "cell_ktag": "RS5AAWbGrQWk",
        "id": "p0RMEfCaEehI"
      },
      "source": [
        "## **PART 1 : CODING** (8/20)"
      ]
    },
    {
      "cell_type": "markdown",
      "metadata": {
        "cell_ktag": "RS5AAWbGrQWk",
        "id": "v5Lp4PasOby4"
      },
      "source": [
        "### Install Pytorch Geometric\n",
        "\n",
        "To handle graph data, we use the library Pytorch Geometric : https://pytorch-geometric.readthedocs.io/en/latest/\n",
        "\n",
        "*   If you use _Google Colab_, simply run the following cell to install Pytorch Geometric (**advised**).\n",
        "*   If you plan using your _own environment_, follow the documentation to install Pytorch Geometric : https://pytorch-geometric.readthedocs.io/en/latest/install/installation.html and skip the following cell."
      ]
    },
    {
      "cell_type": "code",
      "execution_count": 1,
      "metadata": {
        "cell_ktag": "RS5AAWbGrQWk",
        "colab": {
          "base_uri": "https://localhost:8080/"
        },
        "id": "buW3eZmrj1N2",
        "outputId": "ebac13c7-ae92-4087-f311-08267a425ebe"
      },
      "outputs": [
        {
          "output_type": "stream",
          "name": "stdout",
          "text": [
            "Looking in links: https://pytorch-geometric.com/whl/torch-2.1.0+cu121.html\n",
            "Requirement already satisfied: torch-scatter in /usr/local/lib/python3.10/dist-packages (2.1.2+pt21cu121)\n",
            "Looking in links: https://pytorch-geometric.com/whl/torch-2.1.0+cu121.html\n",
            "Requirement already satisfied: torch-sparse in /usr/local/lib/python3.10/dist-packages (0.6.18+pt21cu121)\n",
            "Requirement already satisfied: scipy in /usr/local/lib/python3.10/dist-packages (from torch-sparse) (1.11.4)\n",
            "Requirement already satisfied: numpy<1.28.0,>=1.21.6 in /usr/local/lib/python3.10/dist-packages (from scipy->torch-sparse) (1.25.2)\n",
            "Looking in links: https://pytorch-geometric.com/whl/torch-2.1.0+cu121.html\n",
            "Requirement already satisfied: torch-cluster in /usr/local/lib/python3.10/dist-packages (1.6.3+pt21cu121)\n",
            "Requirement already satisfied: scipy in /usr/local/lib/python3.10/dist-packages (from torch-cluster) (1.11.4)\n",
            "Requirement already satisfied: numpy<1.28.0,>=1.21.6 in /usr/local/lib/python3.10/dist-packages (from scipy->torch-cluster) (1.25.2)\n",
            "Looking in links: https://pytorch-geometric.com/whl/torch-2.1.0+cu121.html\n",
            "Requirement already satisfied: torch-spline-conv in /usr/local/lib/python3.10/dist-packages (1.2.2+pt21cu121)\n",
            "Requirement already satisfied: torch-geometric in /usr/local/lib/python3.10/dist-packages (2.5.0)\n",
            "Requirement already satisfied: tqdm in /usr/local/lib/python3.10/dist-packages (from torch-geometric) (4.66.2)\n",
            "Requirement already satisfied: numpy in /usr/local/lib/python3.10/dist-packages (from torch-geometric) (1.25.2)\n",
            "Requirement already satisfied: scipy in /usr/local/lib/python3.10/dist-packages (from torch-geometric) (1.11.4)\n",
            "Requirement already satisfied: fsspec in /usr/local/lib/python3.10/dist-packages (from torch-geometric) (2023.6.0)\n",
            "Requirement already satisfied: jinja2 in /usr/local/lib/python3.10/dist-packages (from torch-geometric) (3.1.3)\n",
            "Requirement already satisfied: aiohttp in /usr/local/lib/python3.10/dist-packages (from torch-geometric) (3.9.3)\n",
            "Requirement already satisfied: requests in /usr/local/lib/python3.10/dist-packages (from torch-geometric) (2.31.0)\n",
            "Requirement already satisfied: pyparsing in /usr/local/lib/python3.10/dist-packages (from torch-geometric) (3.1.1)\n",
            "Requirement already satisfied: scikit-learn in /usr/local/lib/python3.10/dist-packages (from torch-geometric) (1.2.2)\n",
            "Requirement already satisfied: psutil>=5.8.0 in /usr/local/lib/python3.10/dist-packages (from torch-geometric) (5.9.5)\n",
            "Requirement already satisfied: aiosignal>=1.1.2 in /usr/local/lib/python3.10/dist-packages (from aiohttp->torch-geometric) (1.3.1)\n",
            "Requirement already satisfied: attrs>=17.3.0 in /usr/local/lib/python3.10/dist-packages (from aiohttp->torch-geometric) (23.2.0)\n",
            "Requirement already satisfied: frozenlist>=1.1.1 in /usr/local/lib/python3.10/dist-packages (from aiohttp->torch-geometric) (1.4.1)\n",
            "Requirement already satisfied: multidict<7.0,>=4.5 in /usr/local/lib/python3.10/dist-packages (from aiohttp->torch-geometric) (6.0.5)\n",
            "Requirement already satisfied: yarl<2.0,>=1.0 in /usr/local/lib/python3.10/dist-packages (from aiohttp->torch-geometric) (1.9.4)\n",
            "Requirement already satisfied: async-timeout<5.0,>=4.0 in /usr/local/lib/python3.10/dist-packages (from aiohttp->torch-geometric) (4.0.3)\n",
            "Requirement already satisfied: MarkupSafe>=2.0 in /usr/local/lib/python3.10/dist-packages (from jinja2->torch-geometric) (2.1.5)\n",
            "Requirement already satisfied: charset-normalizer<4,>=2 in /usr/local/lib/python3.10/dist-packages (from requests->torch-geometric) (3.3.2)\n",
            "Requirement already satisfied: idna<4,>=2.5 in /usr/local/lib/python3.10/dist-packages (from requests->torch-geometric) (3.6)\n",
            "Requirement already satisfied: urllib3<3,>=1.21.1 in /usr/local/lib/python3.10/dist-packages (from requests->torch-geometric) (2.0.7)\n",
            "Requirement already satisfied: certifi>=2017.4.17 in /usr/local/lib/python3.10/dist-packages (from requests->torch-geometric) (2024.2.2)\n",
            "Requirement already satisfied: joblib>=1.1.1 in /usr/local/lib/python3.10/dist-packages (from scikit-learn->torch-geometric) (1.3.2)\n",
            "Requirement already satisfied: threadpoolctl>=2.0.0 in /usr/local/lib/python3.10/dist-packages (from scikit-learn->torch-geometric) (3.2.0)\n"
          ]
        }
      ],
      "source": [
        "########## INSTALL TORCH GEOMETRIC ##################\n",
        "# https://pytorch-geometric.readthedocs.io/en/latest/\n",
        "#####################################################\n",
        "import torch\n",
        "\n",
        "\n",
        "def format_pytorch_version(version):\n",
        "    return version.split(\"+\")[0]\n",
        "\n",
        "\n",
        "TORCH_version = torch.__version__\n",
        "TORCH = format_pytorch_version(TORCH_version)\n",
        "\n",
        "\n",
        "def format_cuda_version(version):\n",
        "    return \"cu\" + version.replace(\".\", \"\")\n",
        "\n",
        "\n",
        "CUDA_version = torch.version.cuda\n",
        "CUDA = format_cuda_version(CUDA_version)\n",
        "\n",
        "!pip install torch-scatter     -f https://pytorch-geometric.com/whl/torch-{TORCH}+{CUDA}.html\n",
        "!pip install torch-sparse      -f https://pytorch-geometric.com/whl/torch-{TORCH}+{CUDA}.html\n",
        "!pip install torch-cluster     -f https://pytorch-geometric.com/whl/torch-{TORCH}+{CUDA}.html\n",
        "!pip install torch-spline-conv -f https://pytorch-geometric.com/whl/torch-{TORCH}+{CUDA}.html\n",
        "!pip install torch-geometric"
      ]
    },
    {
      "cell_type": "markdown",
      "metadata": {
        "cell_ktag": "RS5AAWbGrQWk",
        "id": "04JPKXjDclTj"
      },
      "source": [
        "### Import required packages\n",
        "\n",
        "Run the following cell to import all required packages. This cell **must not** be modified.\n",
        "\n",
        "To significantly accelerate your training, it is advised to use GPU. Using Google Colab, you need to activate it :\n",
        "\n",
        "*   Edit --> Notebook Setting --> Hardware accelerator --> GPU"
      ]
    },
    {
      "cell_type": "code",
      "execution_count": 2,
      "metadata": {
        "cell_ktag": "RS5AAWbGrQWk",
        "id": "qXGDmBMYgA_x"
      },
      "outputs": [],
      "source": [
        "#####################################################\n",
        "################## PACKAGES #########################\n",
        "#####################################################\n",
        "import numpy as np\n",
        "import matplotlib.pyplot as plt\n",
        "\n",
        "import torch.nn as nn\n",
        "import torch_geometric.nn as graphnn\n",
        "from sklearn.metrics import f1_score\n",
        "from torch_geometric.datasets import PPI\n",
        "from torch_geometric.loader import DataLoader"
      ]
    },
    {
      "cell_type": "markdown",
      "metadata": {
        "cell_ktag": "RS5AAWbGrQWk",
        "id": "3UvCNG8FgdS-"
      },
      "source": [
        "### Dataset\n",
        "\n",
        "We use the Protein-Protein Interaction (PPI) network dataset which includes:\n",
        "- 20 graphs for training\n",
        "- 2 graphs for validation\n",
        "- 2 graphs for testing\n",
        "\n",
        "One graph of the PPI dataset has on average 2372 nodes. Each node:\n",
        "- 50 features : positional gene sets / motif gene / immunological signatures ...\n",
        "- 121 (binary) labels : gene ontology sets (way to classify gene products like proteins).\n",
        "\n",
        "**This problem aims to predict, for a given PPI graph, the correct node's labels**.\n",
        "\n",
        "**It is a node (multi-level) classification task** (trained using supervised learning).\n",
        "\n",
        "For your curiosity, more details information on the dataset and some applications:\n",
        "- https://cs.stanford.edu/~jure/pubs/pathways-psb18.pdf\n",
        "- https://arxiv.org/abs/1707.04638\n",
        "\n",
        "To understand how a graph data is implemented in Pytorch Geometric, refer to : https://pytorch-geometric.readthedocs.io/en/latest/get_started/introduction.html\n"
      ]
    },
    {
      "cell_type": "code",
      "execution_count": 3,
      "metadata": {
        "cell_ktag": "RS5AAWbGrQWk",
        "colab": {
          "base_uri": "https://localhost:8080/"
        },
        "id": "IwdNhvzVNkZB",
        "outputId": "8dc53dd0-63d1-4ff2-ea54-48a05eb50944"
      },
      "outputs": [
        {
          "output_type": "stream",
          "name": "stdout",
          "text": [
            "Number of samples in the train dataset:  20\n",
            "Number of samples in the val dataset:  2\n",
            "Number of samples in the test dataset:  2\n",
            "Output of one sample from the train dataset:  Data(x=[1767, 50], edge_index=[2, 32318], y=[1767, 121])\n",
            "Edge_index :\n",
            "tensor([[   0,    0,    0,  ..., 1744, 1745, 1749],\n",
            "        [ 372, 1101,  766,  ..., 1745, 1744, 1739]])\n",
            "Number of features per node:  50\n",
            "Number of classes per node:  121\n"
          ]
        }
      ],
      "source": [
        "### LOAD DATASETS\n",
        "\n",
        "BATCH_SIZE = 2\n",
        "\n",
        "# Train Dataset\n",
        "train_dataset = PPI(root=\"\", split=\"train\")\n",
        "train_dataloader = DataLoader(train_dataset, batch_size=BATCH_SIZE)\n",
        "# Val Dataset\n",
        "val_dataset = PPI(root=\"\", split=\"val\")\n",
        "val_dataloader = DataLoader(val_dataset, batch_size=BATCH_SIZE)\n",
        "# Test Dataset\n",
        "test_dataset = PPI(root=\"\", split=\"test\")\n",
        "test_dataloader = DataLoader(test_dataset, batch_size=BATCH_SIZE)\n",
        "\n",
        "# Number of features and classes\n",
        "n_features, n_classes = train_dataset[0].x.shape[1], train_dataset[0].y.shape[1]\n",
        "\n",
        "print(\"Number of samples in the train dataset: \", len(train_dataset))\n",
        "print(\"Number of samples in the val dataset: \", len(test_dataset))\n",
        "print(\"Number of samples in the test dataset: \", len(test_dataset))\n",
        "print(\"Output of one sample from the train dataset: \", train_dataset[0])\n",
        "print(\"Edge_index :\")\n",
        "print(train_dataset[0].edge_index)\n",
        "print(\"Number of features per node: \", n_features)\n",
        "print(\"Number of classes per node: \", n_classes)"
      ]
    },
    {
      "cell_type": "markdown",
      "metadata": {
        "cell_ktag": "RS5AAWbGrQWk",
        "id": "hiCcn9qeO6Nm"
      },
      "source": [
        "### Define a basic Model"
      ]
    },
    {
      "cell_type": "markdown",
      "metadata": {
        "cell_ktag": "RS5AAWbGrQWk",
        "id": "8RjzEiJ-eVot"
      },
      "source": [
        "Here we define a very simple Graph Neural Network model which will be used as our baseline. This model consists of three graph convolutional layers (from https://arxiv.org/pdf/1609.02907.pdf). The first two layers computes 256 features, followed by an ELU activation function. The last layer is used for (multi-level) classification task, computing 121 features."
      ]
    },
    {
      "cell_type": "code",
      "execution_count": 4,
      "metadata": {
        "cell_ktag": "RS5AAWbGrQWk",
        "id": "2Km-GN1aMpd_"
      },
      "outputs": [],
      "source": [
        "#####################################################\n",
        "################## MODEL ############################\n",
        "#####################################################\n",
        "class BasicGraphModel(nn.Module):\n",
        "    def __init__(self, input_size, hidden_size, output_size):\n",
        "        super().__init__()\n",
        "\n",
        "        self.graphconv1 = graphnn.GCNConv(input_size, hidden_size)\n",
        "        self.graphconv2 = graphnn.GCNConv(hidden_size, hidden_size)\n",
        "        self.graphconv3 = graphnn.GCNConv(hidden_size, output_size)\n",
        "\n",
        "        self.elu = nn.ELU()\n",
        "\n",
        "    def forward(self, x, edge_index):\n",
        "        x = self.graphconv1(x, edge_index)\n",
        "        x = self.elu(x)\n",
        "        x = self.graphconv2(x, edge_index)\n",
        "        x = self.elu(x)\n",
        "        x = self.graphconv3(x, edge_index)\n",
        "\n",
        "        return x"
      ]
    },
    {
      "cell_type": "markdown",
      "metadata": {
        "cell_ktag": "RS5AAWbGrQWk",
        "id": "6ekk0TrOktOB"
      },
      "source": [
        "Next we construct the function to train the model."
      ]
    },
    {
      "cell_type": "code",
      "execution_count": 5,
      "metadata": {
        "cell_ktag": "RS5AAWbGrQWk",
        "id": "m4lneoadMxqy"
      },
      "outputs": [],
      "source": [
        "#####################################################\n",
        "############## TRAIN FUNCTION #######################\n",
        "#####################################################\n",
        "def train(\n",
        "    model, loss_fcn, device, optimizer, max_epochs, train_dataloader, val_dataloader\n",
        "):\n",
        "\n",
        "    epoch_list = []\n",
        "    scores_list = []\n",
        "\n",
        "    # loop over epochs\n",
        "    for epoch in range(max_epochs):\n",
        "        model.train()\n",
        "        losses = []\n",
        "        # loop over batches\n",
        "        for i, train_batch in enumerate(train_dataloader):\n",
        "            optimizer.zero_grad()\n",
        "            train_batch_device = train_batch.to(device)\n",
        "            # logits is the output of the model\n",
        "            logits = model(train_batch_device.x, train_batch_device.edge_index)\n",
        "            # compute the loss\n",
        "            loss = loss_fcn(logits, train_batch_device.y)\n",
        "            # optimizer step\n",
        "            loss.backward()\n",
        "            optimizer.step()\n",
        "            losses.append(loss.item())\n",
        "        loss_data = np.array(losses).mean()\n",
        "        print(\"Epoch {:05d} | Loss: {:.4f}\".format(epoch + 1, loss_data))\n",
        "\n",
        "        if epoch % 5 == 0:\n",
        "            # evaluate the model on the validation set\n",
        "            # computes the f1-score (see next function)\n",
        "            score = evaluate(model, loss_fcn, device, val_dataloader)\n",
        "            print(\"F1-Score: {:.4f}\".format(score))\n",
        "            scores_list.append(score)\n",
        "            epoch_list.append(epoch)\n",
        "\n",
        "    return epoch_list, scores_list"
      ]
    },
    {
      "cell_type": "markdown",
      "metadata": {
        "cell_ktag": "RS5AAWbGrQWk",
        "id": "PTd9OqaelLni"
      },
      "source": [
        "Next function is designed to evaluate the performance of the model, computing the F1-Score"
      ]
    },
    {
      "cell_type": "code",
      "execution_count": 6,
      "metadata": {
        "cell_ktag": "RS5AAWbGrQWk",
        "id": "PajZzg5zM7V1"
      },
      "outputs": [],
      "source": [
        "#####################################################\n",
        "############### TEST FUNCTION #######################\n",
        "#####################################################\n",
        "def evaluate(model, loss_fcn, device, dataloader):\n",
        "    score_list_batch = []\n",
        "\n",
        "    model.eval()\n",
        "    for i, batch in enumerate(dataloader):\n",
        "        batch = batch.to(device)\n",
        "        output = model(batch.x, batch.edge_index)\n",
        "        loss_test = loss_fcn(output, batch.y)\n",
        "        predict = np.where(output.detach().cpu().numpy() >= 0, 1, 0)\n",
        "        score = f1_score(batch.y.cpu().numpy(), predict, average=\"micro\")\n",
        "        score_list_batch.append(score)\n",
        "\n",
        "    return np.array(score_list_batch).mean()"
      ]
    },
    {
      "cell_type": "markdown",
      "metadata": {
        "cell_ktag": "RS5AAWbGrQWk",
        "id": "EilgopwMlpsu"
      },
      "source": [
        "Let's train this model !"
      ]
    },
    {
      "cell_type": "code",
      "execution_count": 7,
      "metadata": {
        "cell_ktag": "RS5AAWbGrQWk",
        "colab": {
          "base_uri": "https://localhost:8080/"
        },
        "id": "Xkqo7e0gNACE",
        "outputId": "53fabfc5-01d3-4f83-9b31-5b61f4f45f88"
      },
      "outputs": [
        {
          "output_type": "stream",
          "name": "stdout",
          "text": [
            "\n",
            "Device:  cuda\n",
            "Epoch 00001 | Loss: 0.6380\n",
            "F1-Score: 0.4578\n",
            "Epoch 00002 | Loss: 0.5810\n",
            "Epoch 00003 | Loss: 0.5622\n",
            "Epoch 00004 | Loss: 0.5554\n",
            "Epoch 00005 | Loss: 0.5505\n",
            "Epoch 00006 | Loss: 0.5458\n",
            "F1-Score: 0.5111\n",
            "Epoch 00007 | Loss: 0.5421\n",
            "Epoch 00008 | Loss: 0.5383\n",
            "Epoch 00009 | Loss: 0.5345\n",
            "Epoch 00010 | Loss: 0.5314\n",
            "Epoch 00011 | Loss: 0.5288\n",
            "F1-Score: 0.5136\n",
            "Epoch 00012 | Loss: 0.5261\n",
            "Epoch 00013 | Loss: 0.5236\n",
            "Epoch 00014 | Loss: 0.5212\n",
            "Epoch 00015 | Loss: 0.5189\n",
            "Epoch 00016 | Loss: 0.5165\n",
            "F1-Score: 0.5284\n",
            "Epoch 00017 | Loss: 0.5142\n",
            "Epoch 00018 | Loss: 0.5119\n",
            "Epoch 00019 | Loss: 0.5097\n",
            "Epoch 00020 | Loss: 0.5075\n",
            "Epoch 00021 | Loss: 0.5054\n",
            "F1-Score: 0.5389\n",
            "Epoch 00022 | Loss: 0.5033\n",
            "Epoch 00023 | Loss: 0.5012\n",
            "Epoch 00024 | Loss: 0.4992\n",
            "Epoch 00025 | Loss: 0.4972\n",
            "Epoch 00026 | Loss: 0.4954\n",
            "F1-Score: 0.5523\n",
            "Epoch 00027 | Loss: 0.4934\n",
            "Epoch 00028 | Loss: 0.4916\n",
            "Epoch 00029 | Loss: 0.4898\n",
            "Epoch 00030 | Loss: 0.4880\n",
            "Epoch 00031 | Loss: 0.4863\n",
            "F1-Score: 0.5675\n",
            "Epoch 00032 | Loss: 0.4848\n",
            "Epoch 00033 | Loss: 0.4835\n",
            "Epoch 00034 | Loss: 0.4823\n",
            "Epoch 00035 | Loss: 0.4810\n",
            "Epoch 00036 | Loss: 0.4798\n",
            "F1-Score: 0.5798\n",
            "Epoch 00037 | Loss: 0.4784\n",
            "Epoch 00038 | Loss: 0.4779\n",
            "Epoch 00039 | Loss: 0.4766\n",
            "Epoch 00040 | Loss: 0.4756\n",
            "Epoch 00041 | Loss: 0.4746\n",
            "F1-Score: 0.5830\n",
            "Epoch 00042 | Loss: 0.4749\n",
            "Epoch 00043 | Loss: 0.4764\n",
            "Epoch 00044 | Loss: 0.4785\n",
            "Epoch 00045 | Loss: 0.4751\n",
            "Epoch 00046 | Loss: 0.4738\n",
            "F1-Score: 0.5419\n",
            "Epoch 00047 | Loss: 0.4712\n",
            "Epoch 00048 | Loss: 0.4687\n",
            "Epoch 00049 | Loss: 0.4664\n",
            "Epoch 00050 | Loss: 0.4645\n",
            "Epoch 00051 | Loss: 0.4624\n",
            "F1-Score: 0.5677\n",
            "Epoch 00052 | Loss: 0.4609\n",
            "Epoch 00053 | Loss: 0.4602\n",
            "Epoch 00054 | Loss: 0.4592\n",
            "Epoch 00055 | Loss: 0.4581\n",
            "Epoch 00056 | Loss: 0.4571\n",
            "F1-Score: 0.5618\n",
            "Epoch 00057 | Loss: 0.4569\n",
            "Epoch 00058 | Loss: 0.4568\n",
            "Epoch 00059 | Loss: 0.4555\n",
            "Epoch 00060 | Loss: 0.4548\n",
            "Epoch 00061 | Loss: 0.4544\n",
            "F1-Score: 0.5543\n",
            "Epoch 00062 | Loss: 0.4542\n",
            "Epoch 00063 | Loss: 0.4542\n",
            "Epoch 00064 | Loss: 0.4529\n",
            "Epoch 00065 | Loss: 0.4522\n",
            "Epoch 00066 | Loss: 0.4512\n",
            "F1-Score: 0.5847\n",
            "Epoch 00067 | Loss: 0.4502\n",
            "Epoch 00068 | Loss: 0.4493\n",
            "Epoch 00069 | Loss: 0.4479\n",
            "Epoch 00070 | Loss: 0.4468\n",
            "Epoch 00071 | Loss: 0.4452\n",
            "F1-Score: 0.5965\n",
            "Epoch 00072 | Loss: 0.4438\n",
            "Epoch 00073 | Loss: 0.4434\n",
            "Epoch 00074 | Loss: 0.4429\n",
            "Epoch 00075 | Loss: 0.4420\n",
            "Epoch 00076 | Loss: 0.4410\n",
            "F1-Score: 0.6001\n",
            "Epoch 00077 | Loss: 0.4410\n",
            "Epoch 00078 | Loss: 0.4408\n",
            "Epoch 00079 | Loss: 0.4412\n",
            "Epoch 00080 | Loss: 0.4408\n",
            "Epoch 00081 | Loss: 0.4412\n",
            "F1-Score: 0.5831\n",
            "Epoch 00082 | Loss: 0.4404\n",
            "Epoch 00083 | Loss: 0.4395\n",
            "Epoch 00084 | Loss: 0.4384\n",
            "Epoch 00085 | Loss: 0.4384\n",
            "Epoch 00086 | Loss: 0.4370\n",
            "F1-Score: 0.5974\n",
            "Epoch 00087 | Loss: 0.4355\n",
            "Epoch 00088 | Loss: 0.4350\n",
            "Epoch 00089 | Loss: 0.4343\n",
            "Epoch 00090 | Loss: 0.4332\n",
            "Epoch 00091 | Loss: 0.4320\n",
            "F1-Score: 0.5919\n",
            "Epoch 00092 | Loss: 0.4316\n",
            "Epoch 00093 | Loss: 0.4321\n",
            "Epoch 00094 | Loss: 0.4324\n",
            "Epoch 00095 | Loss: 0.4320\n",
            "Epoch 00096 | Loss: 0.4328\n",
            "F1-Score: 0.5839\n",
            "Epoch 00097 | Loss: 0.4330\n",
            "Epoch 00098 | Loss: 0.4329\n",
            "Epoch 00099 | Loss: 0.4322\n",
            "Epoch 00100 | Loss: 0.4325\n",
            "Epoch 00101 | Loss: 0.4307\n",
            "F1-Score: 0.5836\n",
            "Epoch 00102 | Loss: 0.4301\n",
            "Epoch 00103 | Loss: 0.4286\n",
            "Epoch 00104 | Loss: 0.4281\n",
            "Epoch 00105 | Loss: 0.4280\n",
            "Epoch 00106 | Loss: 0.4287\n",
            "F1-Score: 0.6111\n",
            "Epoch 00107 | Loss: 0.4295\n",
            "Epoch 00108 | Loss: 0.4298\n",
            "Epoch 00109 | Loss: 0.4287\n",
            "Epoch 00110 | Loss: 0.4274\n",
            "Epoch 00111 | Loss: 0.4265\n",
            "F1-Score: 0.5908\n",
            "Epoch 00112 | Loss: 0.4248\n",
            "Epoch 00113 | Loss: 0.4249\n",
            "Epoch 00114 | Loss: 0.4246\n",
            "Epoch 00115 | Loss: 0.4231\n",
            "Epoch 00116 | Loss: 0.4222\n",
            "F1-Score: 0.6014\n",
            "Epoch 00117 | Loss: 0.4226\n",
            "Epoch 00118 | Loss: 0.4216\n",
            "Epoch 00119 | Loss: 0.4218\n",
            "Epoch 00120 | Loss: 0.4211\n",
            "Epoch 00121 | Loss: 0.4208\n",
            "F1-Score: 0.6035\n",
            "Epoch 00122 | Loss: 0.4204\n",
            "Epoch 00123 | Loss: 0.4186\n",
            "Epoch 00124 | Loss: 0.4182\n",
            "Epoch 00125 | Loss: 0.4192\n",
            "Epoch 00126 | Loss: 0.4193\n",
            "F1-Score: 0.5943\n",
            "Epoch 00127 | Loss: 0.4187\n",
            "Epoch 00128 | Loss: 0.4179\n",
            "Epoch 00129 | Loss: 0.4167\n",
            "Epoch 00130 | Loss: 0.4164\n",
            "Epoch 00131 | Loss: 0.4176\n",
            "F1-Score: 0.5899\n",
            "Epoch 00132 | Loss: 0.4181\n",
            "Epoch 00133 | Loss: 0.4188\n",
            "Epoch 00134 | Loss: 0.4199\n",
            "Epoch 00135 | Loss: 0.4201\n",
            "Epoch 00136 | Loss: 0.4236\n",
            "F1-Score: 0.6436\n",
            "Epoch 00137 | Loss: 0.4276\n",
            "Epoch 00138 | Loss: 0.4277\n",
            "Epoch 00139 | Loss: 0.4263\n",
            "Epoch 00140 | Loss: 0.4236\n",
            "Epoch 00141 | Loss: 0.4238\n",
            "F1-Score: 0.6370\n",
            "Epoch 00142 | Loss: 0.4271\n",
            "Epoch 00143 | Loss: 0.4294\n",
            "Epoch 00144 | Loss: 0.4234\n",
            "Epoch 00145 | Loss: 0.4218\n",
            "Epoch 00146 | Loss: 0.4186\n",
            "F1-Score: 0.6035\n",
            "Epoch 00147 | Loss: 0.4181\n",
            "Epoch 00148 | Loss: 0.4212\n",
            "Epoch 00149 | Loss: 0.4193\n",
            "Epoch 00150 | Loss: 0.4195\n",
            "Epoch 00151 | Loss: 0.4218\n",
            "F1-Score: 0.6120\n",
            "Epoch 00152 | Loss: 0.4245\n",
            "Epoch 00153 | Loss: 0.4201\n",
            "Epoch 00154 | Loss: 0.4173\n",
            "Epoch 00155 | Loss: 0.4153\n",
            "Epoch 00156 | Loss: 0.4134\n",
            "F1-Score: 0.6369\n",
            "Epoch 00157 | Loss: 0.4111\n",
            "Epoch 00158 | Loss: 0.4090\n",
            "Epoch 00159 | Loss: 0.4084\n",
            "Epoch 00160 | Loss: 0.4085\n",
            "Epoch 00161 | Loss: 0.4087\n",
            "F1-Score: 0.5966\n",
            "Epoch 00162 | Loss: 0.4086\n",
            "Epoch 00163 | Loss: 0.4096\n",
            "Epoch 00164 | Loss: 0.4119\n",
            "Epoch 00165 | Loss: 0.4131\n",
            "Epoch 00166 | Loss: 0.4144\n",
            "F1-Score: 0.6419\n",
            "Epoch 00167 | Loss: 0.4165\n",
            "Epoch 00168 | Loss: 0.4189\n",
            "Epoch 00169 | Loss: 0.4191\n",
            "Epoch 00170 | Loss: 0.4157\n",
            "Epoch 00171 | Loss: 0.4161\n",
            "F1-Score: 0.6349\n",
            "Epoch 00172 | Loss: 0.4151\n",
            "Epoch 00173 | Loss: 0.4115\n",
            "Epoch 00174 | Loss: 0.4106\n",
            "Epoch 00175 | Loss: 0.4106\n",
            "Epoch 00176 | Loss: 0.4086\n",
            "F1-Score: 0.6106\n",
            "Epoch 00177 | Loss: 0.4079\n",
            "Epoch 00178 | Loss: 0.4079\n",
            "Epoch 00179 | Loss: 0.4081\n",
            "Epoch 00180 | Loss: 0.4065\n",
            "Epoch 00181 | Loss: 0.4094\n",
            "F1-Score: 0.6014\n",
            "Epoch 00182 | Loss: 0.4067\n",
            "Epoch 00183 | Loss: 0.4072\n",
            "Epoch 00184 | Loss: 0.4063\n",
            "Epoch 00185 | Loss: 0.4066\n",
            "Epoch 00186 | Loss: 0.4067\n",
            "F1-Score: 0.6173\n",
            "Epoch 00187 | Loss: 0.4084\n",
            "Epoch 00188 | Loss: 0.4077\n",
            "Epoch 00189 | Loss: 0.4073\n",
            "Epoch 00190 | Loss: 0.4061\n",
            "Epoch 00191 | Loss: 0.4041\n",
            "F1-Score: 0.6441\n",
            "Epoch 00192 | Loss: 0.4042\n",
            "Epoch 00193 | Loss: 0.4033\n",
            "Epoch 00194 | Loss: 0.4015\n",
            "Epoch 00195 | Loss: 0.4012\n",
            "Epoch 00196 | Loss: 0.4004\n",
            "F1-Score: 0.6529\n",
            "Epoch 00197 | Loss: 0.4000\n",
            "Epoch 00198 | Loss: 0.3996\n",
            "Epoch 00199 | Loss: 0.3994\n",
            "Epoch 00200 | Loss: 0.4006\n"
          ]
        }
      ],
      "source": [
        "### DEVICE GPU OR CPU : will select GPU if available\n",
        "device = torch.device(\"cuda\" if torch.cuda.is_available() else \"cpu\")\n",
        "print(\"\\nDevice: \", device)\n",
        "\n",
        "### Max number of epochs\n",
        "max_epochs = 200\n",
        "\n",
        "### DEFINE THE MODEL\n",
        "basic_model = BasicGraphModel(\n",
        "    input_size=n_features, hidden_size=256, output_size=n_classes\n",
        ").to(device)\n",
        "\n",
        "### DEFINE LOSS FUNCTION\n",
        "loss_fcn = nn.BCEWithLogitsLoss()\n",
        "\n",
        "### DEFINE OPTIMIZER\n",
        "optimizer = torch.optim.Adam(basic_model.parameters(), lr=0.005)\n",
        "\n",
        "### TRAIN THE MODEL\n",
        "epoch_list, basic_model_scores = train(\n",
        "    basic_model,\n",
        "    loss_fcn,\n",
        "    device,\n",
        "    optimizer,\n",
        "    max_epochs,\n",
        "    train_dataloader,\n",
        "    val_dataloader,\n",
        ")"
      ]
    },
    {
      "cell_type": "markdown",
      "metadata": {
        "cell_ktag": "RS5AAWbGrQWk",
        "id": "2sGc5g7Xmap2"
      },
      "source": [
        "Let's evaluate the performance of this basic model"
      ]
    },
    {
      "cell_type": "code",
      "execution_count": 8,
      "metadata": {
        "cell_ktag": "RS5AAWbGrQWk",
        "colab": {
          "base_uri": "https://localhost:8080/",
          "height": 485
        },
        "id": "ztfbbg2TNP7F",
        "outputId": "e5f6e8be-2451-43d4-ec00-42bb2e029897"
      },
      "outputs": [
        {
          "output_type": "stream",
          "name": "stdout",
          "text": [
            "Basic Model : F1-Score on the test set: 0.6458\n"
          ]
        },
        {
          "output_type": "display_data",
          "data": {
            "text/plain": [
              "<Figure size 1000x500 with 1 Axes>"
            ],
            "image/png": "[encoded data removed]"
          },
          "metadata": {}
        }
      ],
      "source": [
        "### F1-SCORE ON TEST DATASET\n",
        "score_test = evaluate(basic_model, loss_fcn, device, test_dataloader)\n",
        "print(\"Basic Model : F1-Score on the test set: {:.4f}\".format(score_test))\n",
        "\n",
        "\n",
        "### PLOT EVOLUTION OF F1-SCORE W.R.T EPOCHS\n",
        "def plot_f1_score(epoch_list, scores):\n",
        "    plt.figure(figsize=[10, 5])\n",
        "    plt.plot(epoch_list, scores)\n",
        "    plt.title(\"Evolution of F1S-Score w.r.t epochs\")\n",
        "    plt.ylim([0.0, 1.0])\n",
        "    plt.show()\n",
        "\n",
        "plot_f1_score(epoch_list, basic_model_scores)"
      ]
    },
    {
      "cell_type": "markdown",
      "metadata": {
        "cell_ktag": "RS5AAWbGrQWk",
        "id": "TRVsy5vLnWm_"
      },
      "source": [
        "### Define a better model\n",
        "\n",
        "Now, it's your turn to improve this basic model ! To do so, complete whenever ###### YOUR ANSWER ######## and run the two following cells.\n",
        "\n",
        "**HINT :** https://arxiv.org/pdf/1710.10903.pdf"
      ]
    },
    {
      "cell_type": "code",
      "execution_count": 21,
      "metadata": {
        "cell_ktag": "RS5AAWbGrQWk",
        "id": "qTo7PxFpRHzL"
      },
      "outputs": [],
      "source": [
        "from torch_geometric.nn import GATConv\n",
        "\n",
        "class StudentModel(nn.Module):\n",
        "  def __init__(self, input_size, hidden_size, output_size, head):\n",
        "      super(StudentModel, self).__init__()\n",
        "\n",
        "      self.graphconv1 = graphnn.GATConv(input_size, hidden_size, head)\n",
        "      self.graphconv2 = graphnn.GATConv(hidden_size * head, hidden_size, head)\n",
        "      self.graphconv3 = graphnn.GATConv(hidden_size * head, output_size, head, concat=False)\n",
        "\n",
        "      self.elu = nn.ELU()\n",
        "      ####### YOUR ANSWER #######\n",
        "\n",
        "  def forward(self, x, edge_index):\n",
        "\n",
        "      x = self.graphconv1(x, edge_index)\n",
        "      x = self.elu(x)\n",
        "      x = self.graphconv2(x, edge_index)\n",
        "      x = self.elu(x)\n",
        "      x = self.graphconv3(x, edge_index)\n",
        "      return x\n",
        "      ####### YOUR ANSWER #######"
      ]
    },
    {
      "cell_type": "markdown",
      "metadata": {
        "cell_ktag": "RS5AAWbGrQWk",
        "id": "4yGdQ2uxpCAX"
      },
      "source": [
        "Let's train your model !"
      ]
    },
    {
      "cell_type": "code",
      "execution_count": 22,
      "metadata": {
        "cell_ktag": "RS5AAWbGrQWk",
        "id": "6XIYzkYRo3AQ",
        "colab": {
          "base_uri": "https://localhost:8080/"
        },
        "outputId": "4ab23fa8-2f8b-40ef-96ab-b5dab8adb023"
      },
      "outputs": [
        {
          "output_type": "stream",
          "name": "stdout",
          "text": [
            "\n",
            "Device:  cuda\n",
            "Epoch 00001 | Loss: 0.7223\n",
            "F1-Score: 0.4353\n",
            "Epoch 00002 | Loss: 0.5679\n",
            "Epoch 00003 | Loss: 0.5406\n",
            "Epoch 00004 | Loss: 0.5258\n",
            "Epoch 00005 | Loss: 0.5203\n",
            "Epoch 00006 | Loss: 0.5109\n",
            "F1-Score: 0.5079\n",
            "Epoch 00007 | Loss: 0.5033\n",
            "Epoch 00008 | Loss: 0.4987\n",
            "Epoch 00009 | Loss: 0.4936\n",
            "Epoch 00010 | Loss: 0.4854\n",
            "Epoch 00011 | Loss: 0.4808\n",
            "F1-Score: 0.5126\n",
            "Epoch 00012 | Loss: 0.4766\n",
            "Epoch 00013 | Loss: 0.4816\n",
            "Epoch 00014 | Loss: 0.4756\n",
            "Epoch 00015 | Loss: 0.4656\n",
            "Epoch 00016 | Loss: 0.4566\n",
            "F1-Score: 0.5589\n",
            "Epoch 00017 | Loss: 0.4500\n",
            "Epoch 00018 | Loss: 0.4443\n",
            "Epoch 00019 | Loss: 0.4420\n",
            "Epoch 00020 | Loss: 0.4430\n",
            "Epoch 00021 | Loss: 0.4348\n",
            "F1-Score: 0.6159\n",
            "Epoch 00022 | Loss: 0.4270\n",
            "Epoch 00023 | Loss: 0.4200\n",
            "Epoch 00024 | Loss: 0.4155\n",
            "Epoch 00025 | Loss: 0.4053\n",
            "Epoch 00026 | Loss: 0.3989\n",
            "F1-Score: 0.6544\n",
            "Epoch 00027 | Loss: 0.3952\n",
            "Epoch 00028 | Loss: 0.3990\n",
            "Epoch 00029 | Loss: 0.4171\n",
            "Epoch 00030 | Loss: 0.3983\n",
            "Epoch 00031 | Loss: 0.3853\n",
            "F1-Score: 0.6669\n",
            "Epoch 00032 | Loss: 0.3757\n",
            "Epoch 00033 | Loss: 0.3703\n",
            "Epoch 00034 | Loss: 0.3643\n",
            "Epoch 00035 | Loss: 0.3609\n",
            "Epoch 00036 | Loss: 0.3542\n",
            "F1-Score: 0.6786\n",
            "Epoch 00037 | Loss: 0.3559\n",
            "Epoch 00038 | Loss: 0.3557\n",
            "Epoch 00039 | Loss: 0.3476\n",
            "Epoch 00040 | Loss: 0.3336\n",
            "Epoch 00041 | Loss: 0.3226\n",
            "F1-Score: 0.7325\n",
            "Epoch 00042 | Loss: 0.3220\n",
            "Epoch 00043 | Loss: 0.3235\n",
            "Epoch 00044 | Loss: 0.3320\n",
            "Epoch 00045 | Loss: 0.3200\n",
            "Epoch 00046 | Loss: 0.3158\n",
            "F1-Score: 0.7390\n",
            "Epoch 00047 | Loss: 0.3180\n",
            "Epoch 00048 | Loss: 0.3164\n",
            "Epoch 00049 | Loss: 0.3173\n",
            "Epoch 00050 | Loss: 0.3100\n",
            "Epoch 00051 | Loss: 0.3032\n",
            "F1-Score: 0.7195\n",
            "Epoch 00052 | Loss: 0.2995\n",
            "Epoch 00053 | Loss: 0.2967\n",
            "Epoch 00054 | Loss: 0.2932\n",
            "Epoch 00055 | Loss: 0.2819\n",
            "Epoch 00056 | Loss: 0.2714\n",
            "F1-Score: 0.7737\n",
            "Epoch 00057 | Loss: 0.2659\n",
            "Epoch 00058 | Loss: 0.2558\n",
            "Epoch 00059 | Loss: 0.2527\n",
            "Epoch 00060 | Loss: 0.2515\n",
            "Epoch 00061 | Loss: 0.2443\n",
            "F1-Score: 0.7961\n",
            "Epoch 00062 | Loss: 0.2489\n",
            "Epoch 00063 | Loss: 0.2533\n",
            "Epoch 00064 | Loss: 0.2523\n",
            "Epoch 00065 | Loss: 0.2453\n",
            "Epoch 00066 | Loss: 0.2323\n",
            "F1-Score: 0.8065\n",
            "Epoch 00067 | Loss: 0.2221\n",
            "Epoch 00068 | Loss: 0.2145\n",
            "Epoch 00069 | Loss: 0.2092\n",
            "Epoch 00070 | Loss: 0.2053\n",
            "Epoch 00071 | Loss: 0.2029\n",
            "F1-Score: 0.8192\n",
            "Epoch 00072 | Loss: 0.2028\n",
            "Epoch 00073 | Loss: 0.1984\n",
            "Epoch 00074 | Loss: 0.1926\n",
            "Epoch 00075 | Loss: 0.1891\n",
            "Epoch 00076 | Loss: 0.1884\n",
            "F1-Score: 0.8328\n",
            "Epoch 00077 | Loss: 0.1976\n",
            "Epoch 00078 | Loss: 0.2122\n",
            "Epoch 00079 | Loss: 0.2174\n",
            "Epoch 00080 | Loss: 0.2204\n",
            "Epoch 00081 | Loss: 0.2130\n",
            "F1-Score: 0.8281\n",
            "Epoch 00082 | Loss: 0.1984\n",
            "Epoch 00083 | Loss: 0.1873\n",
            "Epoch 00084 | Loss: 0.1782\n",
            "Epoch 00085 | Loss: 0.1728\n",
            "Epoch 00086 | Loss: 0.1674\n",
            "F1-Score: 0.8410\n",
            "Epoch 00087 | Loss: 0.1658\n",
            "Epoch 00088 | Loss: 0.1671\n",
            "Epoch 00089 | Loss: 0.1708\n",
            "Epoch 00090 | Loss: 0.1706\n",
            "Epoch 00091 | Loss: 0.1783\n",
            "F1-Score: 0.8263\n",
            "Epoch 00092 | Loss: 0.1818\n",
            "Epoch 00093 | Loss: 0.1754\n",
            "Epoch 00094 | Loss: 0.1658\n",
            "Epoch 00095 | Loss: 0.1571\n",
            "Epoch 00096 | Loss: 0.1504\n",
            "F1-Score: 0.8577\n",
            "Epoch 00097 | Loss: 0.1450\n",
            "Epoch 00098 | Loss: 0.1401\n",
            "Epoch 00099 | Loss: 0.1373\n",
            "Epoch 00100 | Loss: 0.1372\n",
            "Epoch 00101 | Loss: 0.1376\n",
            "F1-Score: 0.8668\n",
            "Epoch 00102 | Loss: 0.1396\n",
            "Epoch 00103 | Loss: 0.1428\n",
            "Epoch 00104 | Loss: 0.1531\n",
            "Epoch 00105 | Loss: 0.1581\n",
            "Epoch 00106 | Loss: 0.1546\n",
            "F1-Score: 0.8562\n",
            "Epoch 00107 | Loss: 0.1480\n",
            "Epoch 00108 | Loss: 0.1486\n",
            "Epoch 00109 | Loss: 0.1452\n",
            "Epoch 00110 | Loss: 0.1407\n",
            "Epoch 00111 | Loss: 0.1375\n",
            "F1-Score: 0.8605\n",
            "Epoch 00112 | Loss: 0.1316\n",
            "Epoch 00113 | Loss: 0.1323\n",
            "Epoch 00114 | Loss: 0.1287\n",
            "Epoch 00115 | Loss: 0.1253\n",
            "Epoch 00116 | Loss: 0.1212\n",
            "F1-Score: 0.8817\n",
            "Epoch 00117 | Loss: 0.1173\n",
            "Epoch 00118 | Loss: 0.1154\n",
            "Epoch 00119 | Loss: 0.1170\n",
            "Epoch 00120 | Loss: 0.1174\n",
            "Epoch 00121 | Loss: 0.1202\n",
            "F1-Score: 0.8804\n",
            "Epoch 00122 | Loss: 0.1222\n",
            "Epoch 00123 | Loss: 0.1248\n",
            "Epoch 00124 | Loss: 0.1229\n",
            "Epoch 00125 | Loss: 0.1191\n",
            "Epoch 00126 | Loss: 0.1178\n",
            "F1-Score: 0.8803\n",
            "Epoch 00127 | Loss: 0.1131\n",
            "Epoch 00128 | Loss: 0.1085\n",
            "Epoch 00129 | Loss: 0.1031\n",
            "Epoch 00130 | Loss: 0.1069\n",
            "Epoch 00131 | Loss: 0.1100\n",
            "F1-Score: 0.8827\n",
            "Epoch 00132 | Loss: 0.1103\n",
            "Epoch 00133 | Loss: 0.1112\n",
            "Epoch 00134 | Loss: 0.1110\n",
            "Epoch 00135 | Loss: 0.1109\n",
            "Epoch 00136 | Loss: 0.1104\n",
            "F1-Score: 0.8858\n",
            "Epoch 00137 | Loss: 0.1080\n",
            "Epoch 00138 | Loss: 0.1019\n",
            "Epoch 00139 | Loss: 0.0964\n",
            "Epoch 00140 | Loss: 0.0958\n",
            "Epoch 00141 | Loss: 0.0957\n",
            "F1-Score: 0.8883\n",
            "Epoch 00142 | Loss: 0.0925\n",
            "Epoch 00143 | Loss: 0.0908\n",
            "Epoch 00144 | Loss: 0.0890\n",
            "Epoch 00145 | Loss: 0.0894\n",
            "Epoch 00146 | Loss: 0.0905\n",
            "F1-Score: 0.8973\n",
            "Epoch 00147 | Loss: 0.0923\n",
            "Epoch 00148 | Loss: 0.0973\n",
            "Epoch 00149 | Loss: 0.1001\n",
            "Epoch 00150 | Loss: 0.0993\n",
            "Epoch 00151 | Loss: 0.0949\n",
            "F1-Score: 0.8931\n",
            "Epoch 00152 | Loss: 0.0899\n",
            "Epoch 00153 | Loss: 0.0869\n",
            "Epoch 00154 | Loss: 0.0829\n",
            "Epoch 00155 | Loss: 0.0805\n",
            "Epoch 00156 | Loss: 0.0794\n",
            "F1-Score: 0.9043\n",
            "Epoch 00157 | Loss: 0.0777\n",
            "Epoch 00158 | Loss: 0.0775\n",
            "Epoch 00159 | Loss: 0.0800\n",
            "Epoch 00160 | Loss: 0.0808\n",
            "Epoch 00161 | Loss: 0.0811\n",
            "F1-Score: 0.8980\n",
            "Epoch 00162 | Loss: 0.0809\n",
            "Epoch 00163 | Loss: 0.0770\n",
            "Epoch 00164 | Loss: 0.0720\n",
            "Epoch 00165 | Loss: 0.0708\n",
            "Epoch 00166 | Loss: 0.0702\n",
            "F1-Score: 0.9023\n",
            "Epoch 00167 | Loss: 0.0724\n",
            "Epoch 00168 | Loss: 0.0737\n",
            "Epoch 00169 | Loss: 0.0772\n",
            "Epoch 00170 | Loss: 0.0797\n",
            "Epoch 00171 | Loss: 0.0854\n",
            "F1-Score: 0.8964\n",
            "Epoch 00172 | Loss: 0.0912\n",
            "Epoch 00173 | Loss: 0.0964\n",
            "Epoch 00174 | Loss: 0.0951\n",
            "Epoch 00175 | Loss: 0.0920\n",
            "Epoch 00176 | Loss: 0.0884\n",
            "F1-Score: 0.8963\n",
            "Epoch 00177 | Loss: 0.0847\n",
            "Epoch 00178 | Loss: 0.0790\n",
            "Epoch 00179 | Loss: 0.0720\n",
            "Epoch 00180 | Loss: 0.0655\n",
            "Epoch 00181 | Loss: 0.0615\n",
            "F1-Score: 0.9104\n",
            "Epoch 00182 | Loss: 0.0599\n",
            "Epoch 00183 | Loss: 0.0583\n",
            "Epoch 00184 | Loss: 0.0609\n",
            "Epoch 00185 | Loss: 0.0600\n",
            "Epoch 00186 | Loss: 0.0622\n",
            "F1-Score: 0.9077\n",
            "Epoch 00187 | Loss: 0.0624\n",
            "Epoch 00188 | Loss: 0.0651\n",
            "Epoch 00189 | Loss: 0.0709\n",
            "Epoch 00190 | Loss: 0.0709\n",
            "Epoch 00191 | Loss: 0.0707\n",
            "F1-Score: 0.9047\n",
            "Epoch 00192 | Loss: 0.0738\n",
            "Epoch 00193 | Loss: 0.0738\n",
            "Epoch 00194 | Loss: 0.0752\n",
            "Epoch 00195 | Loss: 0.0746\n",
            "Epoch 00196 | Loss: 0.0733\n",
            "F1-Score: 0.9057\n",
            "Epoch 00197 | Loss: 0.0695\n",
            "Epoch 00198 | Loss: 0.0652\n",
            "Epoch 00199 | Loss: 0.0610\n",
            "Epoch 00200 | Loss: 0.0548\n"
          ]
        }
      ],
      "source": [
        "## Student model\n",
        "device = torch.device(\"cuda\" if torch.cuda.is_available() else \"cpu\")\n",
        "print(\"\\nDevice: \", device)\n",
        "\n",
        "student_model = StudentModel(input_size=n_features, hidden_size=256, output_size=n_classes, head=5).to(device)\n",
        "\n",
        "max_epochs = 200\n",
        "### DEFINE LOSS FUNCTION AND OPTIMIZER\n",
        "loss_fcn = nn.BCEWithLogitsLoss()\n",
        "optimizer = torch.optim.Adam(student_model.parameters(), lr=0.005)\n",
        "\n",
        "### TRAIN\n",
        "\n",
        "epoch_list, student_model_scores = train(student_model, loss_fcn, device, optimizer, max_epochs, train_dataloader, val_dataloader)"
      ]
    },
    {
      "cell_type": "markdown",
      "metadata": {
        "cell_ktag": "RS5AAWbGrQWk",
        "id": "aWatNTPBpQGY"
      },
      "source": [
        "Let's evaluate the performance of your model"
      ]
    },
    {
      "cell_type": "code",
      "execution_count": 23,
      "metadata": {
        "cell_ktag": "RS5AAWbGrQWk",
        "id": "WFWMqwDuSj7b",
        "colab": {
          "base_uri": "https://localhost:8080/",
          "height": 504
        },
        "outputId": "f76b1a1a-4c75-4855-8b28-89e37a4ed31c"
      },
      "outputs": [
        {
          "output_type": "stream",
          "name": "stdout",
          "text": [
            "Student Model : F1-Score on the test set: 0.9413\n"
          ]
        },
        {
          "output_type": "display_data",
          "data": {
            "text/plain": [
              "<Figure size 1000x500 with 1 Axes>"
            ],
            "image/png": "[encoded data removed]"
          },
          "metadata": {}
        }
      ],
      "source": [
        "score_test = evaluate(student_model, loss_fcn, device, test_dataloader)\n",
        "print(\"Student Model : F1-Score on the test set: {:.4f}\".format(score_test))\n",
        "\n",
        "\n",
        "def plot_f1_score(epoch_list, basic_model_scores, student_model_scores):\n",
        "    plt.figure(figsize=[10, 5])\n",
        "    plt.plot(epoch_list, basic_model_scores, \"b\", label=\"Basic Model\")\n",
        "    plt.plot(epoch_list, student_model_scores, \"r\", label=\"Student Model\")\n",
        "    plt.title(\"Evolution of f1 score w.r.t epochs\")\n",
        "    plt.ylim([0.0, 1.0])\n",
        "    plt.ylabel(\"Epochs\")\n",
        "    plt.xlabel(\"F1-Score\")\n",
        "    plt.legend()\n",
        "    plt.show()\n",
        "\n",
        "\n",
        "plot_f1_score(epoch_list, basic_model_scores, student_model_scores)"
      ]
    },
    {
      "cell_type": "markdown",
      "metadata": {
        "cell_ktag": "RS5AAWbGrQWk",
        "id": "i9aVEYkuR3fp"
      },
      "source": [
        "## **PART 2 : QUESTIONS** (12/20)"
      ]
    },
    {
      "cell_type": "markdown",
      "metadata": {
        "cell_ktag": "RS5AAWbGrQWk",
        "id": "vZ-r6AWtR-Co"
      },
      "source": [
        "**1. Make a small paragraph that : (4pts)**\n",
        "1. Explains your achitecture and justify your choices (why the Graph Layer you chose is more efficient than the GCNLayer from the Basic Model?).\n",
        "2. Analyses your results (what is the F1-Score ? are your results convincing ? what is your position w.r.t state-of-the-art ?)."
      ]
    },
    {
      "cell_type": "markdown",
      "metadata": {
        "cell_ktag": "RS5AAWbGrQWk",
        "id": "2hVvmqd2yO5R"
      },
      "source": [
        ">Answer\n",
        "\n",
        "1.\n",
        "\n",
        "The basic model is based on the graph convolutional network layer, while our student model is based on the graph attention network layer.\n",
        "\n",
        "The GAT layer is more efficient because it does not require costly matrix operations, and is parallelizable across all nodes in the graph, and it allows for assigning different importances to different nodes within a neighborhood while dealing with different sized neighborhoods, and does not knowing the entire graph structure upfront.\n",
        "\n",
        "2.\n",
        "\n",
        "The F1-Score is a metric used in classification problems to evaluate the performance of a model. It ranges from 0 to 1 with 1 being the best possible score, and it  is particularly useful for uneven class distribution.\n",
        "\n",
        "From the graph above, our student model's F1-Score is around 0.94, making a large improvement from the base model. Since F1-Score presents the performance of a model with uneven class distribution, thus this result is convincing and our model performs well on the dataset.\n"
      ]
    },
    {
      "cell_type": "markdown",
      "metadata": {
        "cell_ktag": "RS5AAWbGrQWk",
        "id": "H0WrqBZayO5R"
      },
      "source": []
    },
    {
      "cell_type": "markdown",
      "metadata": {
        "cell_ktag": "RS5AAWbGrQWk",
        "id": "5HIVqG4u5jfc"
      },
      "source": [
        "**2. Provide a diagramm of your architecture, which includes a good and clear legend as well as shapes information. The diagramm must be submitted as an external file, along with this notebook (PDF, JEPG or PNG format accepted). (2pts)**"
      ]
    },
    {
      "cell_type": "markdown",
      "metadata": {
        "cell_ktag": "RS5AAWbGrQWk",
        "id": "crMHLjkJ5pxl"
      },
      "source": [
        "**3. Make a small paragraph that explains: (6pts)**\n",
        "1. What _oversmoothing_ is in the context of Graph Neural Network. Why is it an issue ?\n",
        "2. Are there solutions to overcome it ?\n",
        "3. Do you think the model you constructed is robust with respect to oversmoothing ? Why ?"
      ]
    },
    {
      "cell_type": "markdown",
      "metadata": {
        "cell_ktag": "RS5AAWbGrQWk",
        "id": "QLPosSov_uPK"
      },
      "source": [
        "> Answer\n",
        "\n",
        "1.\n",
        "\n",
        "Oversmoothing refers to the situation where in our GNN model, the node representations converge to indistinguishable vectors after many layers of message passing.\n",
        "\n",
        "Oversmoothing is raised because of the aggregation process in each GNN layer, and it is crucial because we will end up with similar embeddings for nodes that don't have the same label, which will result in mislabeling.\n",
        "\n",
        "2.\n",
        "\n",
        "There are some solutions to overcome this issue.\n",
        "\n",
        "3.\n",
        "\n",
        "Our model with GAT layers can efficiently deal with voersmoothing. Because the attention mechanism allows the network to learn a different weight for neighbor nodes, and the model hence would capture more nuanced relationships between nodes. This could help the model avoid ending up with same embeddings for nodes."
      ]
    },
    {
      "cell_type": "markdown",
      "metadata": {
        "cell_ktag": "RS5AAWbGrQWk",
        "id": "i2tFyf90yO5R"
      },
      "source": []
    }
  ],
  "metadata": {
    "accelerator": "GPU",
    "colab": {
      "provenance": []
    },
    "gpuClass": "standard",
    "kernelspec": {
      "display_name": "Python 3",
      "language": "python",
      "name": "python3"
    },
    "kfiletag": "RS5AAWbGrQWk",
    "language_info": {
      "codemirror_mode": {
        "name": "ipython",
        "version": 3
      },
      "file_extension": ".py",
      "mimetype": "text/x-python",
      "name": "python",
      "nbconvert_exporter": "python",
      "pygments_lexer": "ipython3",
      "version": "3.7.6"
    }
  },
  "nbformat": 4,
  "nbformat_minor": 0
}