{
  "cells": [
    {
      "cell_type": "markdown",
      "metadata": {
        "cell_ktag": "fpB/LOm/P3FD",
        "id": "MltUKuCfPqpf"
      },
      "source": [
        "# Implementing a Low Rank Adapter (LoRA) (8 points)\n",
        "\n",
        "Objective of this exercice:\n",
        "\n",
        "Given a neural network (NN) classifier pre-trained on the subset of MNIST containing digits 0...4,\n",
        "you will fine-tune this NN, by optimizing all weights, and compare the test accuracy of this baseline model versus fine-tuning a LoRA.\n",
        "\n",
        "The neural network that we will define is artificially big because LoRA is usually applied to Large Language Models of billions of parameters\n",
        "\n",
        "**What is a LoRA ?**\n",
        "\n",
        "LoRA (Low-Rank Adaptation of Large Language Models) is a popular and lightweight training technique that significantly reduces the number of trainable parameters. It works by inserting a smaller number of new weights into the model and only these are trained. This makes training with LoRA much faster, memory-efficient, and produces smaller model weights (a few hundred MBs), which are easier to store and share.\n",
        "\n",
        "<div style=\"display: flex; justify-content: space-between;\">\n",
        "    <img src='https://www.lri.fr/~gcharpia/deeppractice/2024/TP4/imgs/lora_fig.png' style=\"width: 30%;\">\n",
        "    <img src='https://www.lri.fr/~gcharpia/deeppractice/2024/TP4/imgs/lora_text.png' style=\"width: 70%;\">\n",
        "</div>\n",
        "\n",
        "\n",
        "\n",
        "References:\n",
        "\n",
        "https://arxiv.org/pdf/2106.09685.pdf\n",
        "\n",
        "https://lightning.ai/pages/community/tutorial/lora-llm/\n",
        "\n",
        "https://huggingface.co/docs/diffusers/main/en/training/lora\n"
      ],
      "id": "MltUKuCfPqpf"
    },
    {
      "cell_type": "code",
      "execution_count": 5,
      "metadata": {
        "cell_ktag": "fpB/LOm/P3FD",
        "id": "Nj01asU_Pqpg"
      },
      "outputs": [],
      "source": [
        "import torch\n",
        "import torch.nn as nn\n",
        "import torchvision.datasets as datasets\n",
        "from torch.utils.data import DataLoader, random_split, Subset\n",
        "import torch.nn.utils.parametrize as parametrize\n",
        "import torchvision.transforms as transforms\n",
        "\n",
        "import numpy as np\n",
        "import matplotlib.pyplot as plt\n",
        "\n",
        "from tqdm import tqdm\n",
        "\n",
        "# Make torch deterministic\n",
        "_ = torch.manual_seed(0)\n",
        "\n",
        "\n",
        "# Decide which device we want to run on\n",
        "ngpu=1\n",
        "device = torch.device(\"cuda:0\" if (torch.cuda.is_available() and ngpu > 0) else \"cpu\")\n",
        "\n",
        "if device.type == 'cuda':\n",
        "    print(torch.cuda.get_device_name(0))\n",
        "    print('Memory Usage:')\n",
        "    print('Allocated:', round(torch.cuda.memory_allocated(0)/1024**3,1), 'GB')\n",
        "    print('Cached:   ', round(torch.cuda.memory_reserved(0)/1024**3,1), 'GB')"
      ],
      "id": "Nj01asU_Pqpg"
    },
    {
      "cell_type": "code",
      "execution_count": 6,
      "metadata": {
        "cell_ktag": "fpB/LOm/P3FD",
        "colab": {
          "base_uri": "https://localhost:8080/"
        },
        "id": "hdxOpcCxPqph",
        "outputId": "9c53c940-8bb5-47a3-b136-99f6005c3b3d"
      },
      "outputs": [
        {
          "output_type": "stream",
          "name": "stdout",
          "text": [
            "Downloading http://yann.lecun.com/exdb/mnist/train-images-idx3-ubyte.gz\n",
            "Downloading http://yann.lecun.com/exdb/mnist/train-images-idx3-ubyte.gz to ./data/MNIST/raw/train-images-idx3-ubyte.gz\n"
          ]
        },
        {
          "output_type": "stream",
          "name": "stderr",
          "text": [
            "100%|██████████| 9912422/9912422 [00:00<00:00, 107314036.27it/s]\n"
          ]
        },
        {
          "output_type": "stream",
          "name": "stdout",
          "text": [
            "Extracting ./data/MNIST/raw/train-images-idx3-ubyte.gz to ./data/MNIST/raw\n",
            "\n",
            "Downloading http://yann.lecun.com/exdb/mnist/train-labels-idx1-ubyte.gz\n",
            "Downloading http://yann.lecun.com/exdb/mnist/train-labels-idx1-ubyte.gz to ./data/MNIST/raw/train-labels-idx1-ubyte.gz\n"
          ]
        },
        {
          "output_type": "stream",
          "name": "stderr",
          "text": [
            "100%|██████████| 28881/28881 [00:00<00:00, 71762851.79it/s]\n"
          ]
        },
        {
          "output_type": "stream",
          "name": "stdout",
          "text": [
            "Extracting ./data/MNIST/raw/train-labels-idx1-ubyte.gz to ./data/MNIST/raw\n",
            "\n",
            "Downloading http://yann.lecun.com/exdb/mnist/t10k-images-idx3-ubyte.gz\n",
            "Downloading http://yann.lecun.com/exdb/mnist/t10k-images-idx3-ubyte.gz to ./data/MNIST/raw/t10k-images-idx3-ubyte.gz\n"
          ]
        },
        {
          "output_type": "stream",
          "name": "stderr",
          "text": [
            "100%|██████████| 1648877/1648877 [00:00<00:00, 28684385.50it/s]\n"
          ]
        },
        {
          "output_type": "stream",
          "name": "stdout",
          "text": [
            "Extracting ./data/MNIST/raw/t10k-images-idx3-ubyte.gz to ./data/MNIST/raw\n",
            "\n",
            "Downloading http://yann.lecun.com/exdb/mnist/t10k-labels-idx1-ubyte.gz\n",
            "Downloading http://yann.lecun.com/exdb/mnist/t10k-labels-idx1-ubyte.gz to ./data/MNIST/raw/t10k-labels-idx1-ubyte.gz\n"
          ]
        },
        {
          "output_type": "stream",
          "name": "stderr",
          "text": [
            "100%|██████████| 4542/4542 [00:00<00:00, 15301629.53it/s]\n"
          ]
        },
        {
          "output_type": "stream",
          "name": "stdout",
          "text": [
            "Extracting ./data/MNIST/raw/t10k-labels-idx1-ubyte.gz to ./data/MNIST/raw\n",
            "\n"
          ]
        }
      ],
      "source": [
        "#Normalizing MNIST\n",
        "#These values are the mean and std deviation of the MNIST dataset.\n",
        "transform = transforms.Compose([transforms.ToTensor(), transforms.Normalize((0.1307,), (0.3081,))])\n",
        "\n",
        "# load MNIST\n",
        "mnist_train = datasets.MNIST(root='./data', train=True, download=True, transform=transform)\n",
        "mnist_test = datasets.MNIST(root='./data', train=False, download=True, transform=transform)\n",
        "\n",
        "# keep images of desired labels\n",
        "class_names = [0, 1, 2, 3, 4]\n",
        "\n",
        "# create a mask to filter indices for each label\n",
        "train_mask = torch.tensor([label in class_names for label in mnist_train.targets])\n",
        "test_mask = torch.tensor([label in class_names for label in mnist_test.targets])\n",
        "\n",
        "# Create Subset datasets for train, validation, and test\n",
        "train_dataset = Subset(mnist_train, torch.where(train_mask)[0])\n",
        "test_dataset = Subset(mnist_test, torch.where(test_mask)[0])\n",
        "\n",
        "# split train into train & validation\n",
        "train_size = int(0.7 * len(train_dataset))\n",
        "val_size = len(train_dataset) - train_size\n",
        "train_dataset, val_dataset = random_split(train_dataset, [train_size, val_size])\n",
        "\n",
        "batch_size=128\n",
        "\n",
        "train_loader = DataLoader(train_dataset, batch_size=batch_size, shuffle=True)\n",
        "val_loader = DataLoader(val_dataset, batch_size=batch_size, shuffle=False)\n",
        "test_loader = DataLoader(test_dataset, batch_size=batch_size, shuffle=False)"
      ],
      "id": "hdxOpcCxPqph"
    },
    {
      "cell_type": "code",
      "execution_count": 7,
      "metadata": {
        "cell_ktag": "fpB/LOm/P3FD",
        "colab": {
          "base_uri": "https://localhost:8080/"
        },
        "id": "cVVhPl6cPqph",
        "outputId": "c323abbf-f5ad-4ce8-d877-bac60d8f6c1c"
      },
      "outputs": [
        {
          "output_type": "execute_result",
          "data": {
            "text/plain": [
              "(21417, 9179, 5139)"
            ]
          },
          "metadata": {},
          "execution_count": 7
        }
      ],
      "source": [
        "len(train_dataset),len(val_dataset),len(test_dataset)"
      ],
      "id": "cVVhPl6cPqph"
    },
    {
      "cell_type": "markdown",
      "metadata": {
        "cell_ktag": "fpB/LOm/P3FD",
        "id": "hWNW57HzPqph"
      },
      "source": [
        "# Architecture of the classifier"
      ],
      "id": "hWNW57HzPqph"
    },
    {
      "cell_type": "code",
      "execution_count": 8,
      "metadata": {
        "cell_ktag": "fpB/LOm/P3FD",
        "id": "dGoiCHvrPqph"
      },
      "outputs": [],
      "source": [
        "#note that last layer has 5 neurons for digits 0...4\n",
        "#and the same layer will be used for 5...9\n",
        "\n",
        "class classifier(nn.Module):\n",
        "    def __init__(self, hidden_size_1=1000, hidden_size_2=2000):\n",
        "        super(classifier,self).__init__()\n",
        "\n",
        "        self.linear1 = nn.Linear(28*28, hidden_size_1)\n",
        "        self.linear2 = nn.Linear(hidden_size_1, hidden_size_2)\n",
        "        self.linear3 = nn.Linear(hidden_size_2, 5)\n",
        "        self.relu = nn.ReLU()\n",
        "\n",
        "\n",
        "        self.dropout = nn.Dropout(0.5)\n",
        "\n",
        "\n",
        "\n",
        "    def forward(self, img):\n",
        "        x = img.view(-1, 28*28)\n",
        "        x = self.relu(self.linear1(x))\n",
        "        x = self.dropout(x)\n",
        "        x = self.relu(self.linear2(x))\n",
        "        x = self.dropout(x)\n",
        "        x = self.linear3(x)\n",
        "        return x\n",
        "\n",
        "net = classifier().to(device)"
      ],
      "id": "dGoiCHvrPqph"
    },
    {
      "cell_type": "markdown",
      "metadata": {
        "cell_ktag": "fpB/LOm/P3FD",
        "id": "x4BPhYmgPqph"
      },
      "source": [
        "# Code for training loop & validation"
      ],
      "id": "x4BPhYmgPqph"
    },
    {
      "cell_type": "code",
      "execution_count": 9,
      "metadata": {
        "cell_ktag": "fpB/LOm/P3FD",
        "id": "mjD1QM9LPqph"
      },
      "outputs": [],
      "source": [
        "#We set a lower learning rate when we will fine-tune on the subset of MNIST containing digits 5...9\n",
        "#so that fine-tuning don't change pre-training weights too much.\n",
        "\n",
        "#Since the NN is big, we add weight decay to regularize it otherwise it will overfit too much too fast\n",
        "def adjust_optimizer(name, parameters):\n",
        "    lr = 0.001\n",
        "    if name == \"subset2\":\n",
        "        lr = 0.00001\n",
        "    return torch.optim.Adam(parameters, lr=lr, weight_decay=0.0001)\n",
        "\n",
        "#to do label prediction during training we use argmax on the last layer, which output a vector of 5 components\n",
        "#so y_hat will be between 0 and 4, we thus have to \"translate\" y_true so that it's in the right range\n",
        "\n",
        "# the name variable will be used later on to recognize on which dataset we are\n",
        "# and do the corresponding label translation, and set the good hyperparameters\n",
        "def process_labels(name, labels):\n",
        "    if 'subset2' in name:\n",
        "        labels = labels - 5\n",
        "    return labels\n",
        "\n",
        "\n",
        "def run_epoch(loader, name, net, optimizer, cross_el, total_iterations_limit=None):\n",
        "    net.train() if optimizer else net.eval()\n",
        "\n",
        "    loss_sum = 0\n",
        "    num_iterations = 0\n",
        "\n",
        "    data_iterator = tqdm(loader, desc=f'Training' if optimizer else f'Validation')\n",
        "    if total_iterations_limit is not None:\n",
        "        data_iterator.total = total_iterations_limit\n",
        "\n",
        "    for data in data_iterator:\n",
        "        num_iterations += 1\n",
        "        x, y = data\n",
        "        x, y = x.to(device), y.to(device)\n",
        "        x = x.view(-1, 28*28)\n",
        "        optimizer.zero_grad() if optimizer else None\n",
        "        output = net(x)\n",
        "        loss = cross_el(output, process_labels(name, y))\n",
        "        loss_sum += loss.item()\n",
        "        avg_loss = loss_sum / num_iterations\n",
        "        data_iterator.set_postfix(loss=avg_loss)\n",
        "        if optimizer:\n",
        "            loss.backward()\n",
        "            optimizer.step()\n",
        "\n",
        "    return loss_sum / len(data_iterator)\n",
        "\n",
        "def train(train_loader, val_loader, name, net, epochs=5, total_iterations_limit=None):\n",
        "    cross_el = nn.CrossEntropyLoss()\n",
        "    optimizer = adjust_optimizer(name, net.parameters())\n",
        "\n",
        "    total_iterations = 0\n",
        "    train_loss_lst, val_loss_lst = [], []\n",
        "\n",
        "    for epoch in range(epochs):\n",
        "        train_loss = run_epoch(train_loader, name, net, optimizer, cross_el, total_iterations_limit)\n",
        "        print(f\"Epoch [{epoch+1}/{epochs}] Train Loss: {train_loss}\")\n",
        "        train_loss_lst.append(train_loss)\n",
        "\n",
        "        val_loss = run_epoch(val_loader, name, net, None, cross_el, total_iterations_limit)\n",
        "        print(f\"Epoch [{epoch+1}/{epochs}] Validation Loss: {val_loss}\")\n",
        "        val_loss_lst.append(val_loss)\n",
        "\n",
        "    return train_loss_lst, val_loss_lst"
      ],
      "id": "mjD1QM9LPqph"
    },
    {
      "cell_type": "code",
      "execution_count": 10,
      "metadata": {
        "cell_ktag": "fpB/LOm/P3FD",
        "id": "_eTvb5SrPqpi"
      },
      "outputs": [],
      "source": [
        "def plot_losses(train_loss_lst, val_loss_lst):\n",
        "    plt.plot(train_loss_lst,label=\"train\")\n",
        "    plt.plot(val_loss_lst,label=\"val\")\n",
        "    plt.legend()"
      ],
      "id": "_eTvb5SrPqpi"
    },
    {
      "cell_type": "markdown",
      "metadata": {
        "cell_ktag": "fpB/LOm/P3FD",
        "id": "ZmA-lBUhPqpi"
      },
      "source": [
        "# If you have GPU access, or simply want to train your own model, run this code"
      ],
      "id": "ZmA-lBUhPqpi"
    },
    {
      "cell_type": "code",
      "execution_count": null,
      "metadata": {
        "cell_ktag": "fpB/LOm/P3FD",
        "id": "re1rcjMPPqpi",
        "outputId": "2dd089fc-1ae2-4134-8e04-b415a00b5b60"
      },
      "outputs": [
        {
          "name": "stderr",
          "output_type": "stream",
          "text": [
            "Training: 100%|██████████████████| 168/168 [00:01<00:00, 107.89it/s, loss=0.149]\n"
          ]
        },
        {
          "name": "stdout",
          "output_type": "stream",
          "text": [
            "Epoch [1/30] Train Loss: 0.14933186718484476\n"
          ]
        },
        {
          "name": "stderr",
          "output_type": "stream",
          "text": [
            "Validation: 100%|█████████████████| 72/72 [00:00<00:00, 154.46it/s, loss=0.0629]\n"
          ]
        },
        {
          "name": "stdout",
          "output_type": "stream",
          "text": [
            "Epoch [1/30] Validation Loss: 0.06286703370925453\n"
          ]
        },
        {
          "name": "stderr",
          "output_type": "stream",
          "text": [
            "Training: 100%|█████████████████| 168/168 [00:01<00:00, 137.21it/s, loss=0.0693]\n"
          ]
        },
        {
          "name": "stdout",
          "output_type": "stream",
          "text": [
            "Epoch [2/30] Train Loss: 0.0692892816178279\n"
          ]
        },
        {
          "name": "stderr",
          "output_type": "stream",
          "text": [
            "Validation: 100%|█████████████████| 72/72 [00:00<00:00, 146.92it/s, loss=0.0611]\n"
          ]
        },
        {
          "name": "stdout",
          "output_type": "stream",
          "text": [
            "Epoch [2/30] Validation Loss: 0.061095939004897244\n"
          ]
        },
        {
          "name": "stderr",
          "output_type": "stream",
          "text": [
            "Training: 100%|█████████████████| 168/168 [00:01<00:00, 132.72it/s, loss=0.0573]\n"
          ]
        },
        {
          "name": "stdout",
          "output_type": "stream",
          "text": [
            "Epoch [3/30] Train Loss: 0.05725510023157334\n"
          ]
        },
        {
          "name": "stderr",
          "output_type": "stream",
          "text": [
            "Validation: 100%|█████████████████| 72/72 [00:00<00:00, 156.70it/s, loss=0.0551]\n"
          ]
        },
        {
          "name": "stdout",
          "output_type": "stream",
          "text": [
            "Epoch [3/30] Validation Loss: 0.05512118190462287\n"
          ]
        },
        {
          "name": "stderr",
          "output_type": "stream",
          "text": [
            "Training: 100%|█████████████████| 168/168 [00:01<00:00, 136.25it/s, loss=0.0455]\n"
          ]
        },
        {
          "name": "stdout",
          "output_type": "stream",
          "text": [
            "Epoch [4/30] Train Loss: 0.04553046500604112\n"
          ]
        },
        {
          "name": "stderr",
          "output_type": "stream",
          "text": [
            "Validation: 100%|█████████████████| 72/72 [00:00<00:00, 158.39it/s, loss=0.0428]\n"
          ]
        },
        {
          "name": "stdout",
          "output_type": "stream",
          "text": [
            "Epoch [4/30] Validation Loss: 0.04281151670632729\n"
          ]
        },
        {
          "name": "stderr",
          "output_type": "stream",
          "text": [
            "Training: 100%|█████████████████| 168/168 [00:01<00:00, 137.87it/s, loss=0.0443]\n"
          ]
        },
        {
          "name": "stdout",
          "output_type": "stream",
          "text": [
            "Epoch [5/30] Train Loss: 0.044287869350574466\n"
          ]
        },
        {
          "name": "stderr",
          "output_type": "stream",
          "text": [
            "Validation: 100%|█████████████████| 72/72 [00:00<00:00, 157.15it/s, loss=0.0458]\n"
          ]
        },
        {
          "name": "stdout",
          "output_type": "stream",
          "text": [
            "Epoch [5/30] Validation Loss: 0.045809944667982765\n"
          ]
        },
        {
          "name": "stderr",
          "output_type": "stream",
          "text": [
            "Training: 100%|█████████████████| 168/168 [00:01<00:00, 136.49it/s, loss=0.0389]\n"
          ]
        },
        {
          "name": "stdout",
          "output_type": "stream",
          "text": [
            "Epoch [6/30] Train Loss: 0.03889225736479386\n"
          ]
        },
        {
          "name": "stderr",
          "output_type": "stream",
          "text": [
            "Validation: 100%|██████████████████| 72/72 [00:00<00:00, 149.50it/s, loss=0.055]\n"
          ]
        },
        {
          "name": "stdout",
          "output_type": "stream",
          "text": [
            "Epoch [6/30] Validation Loss: 0.05495715997272378\n"
          ]
        },
        {
          "name": "stderr",
          "output_type": "stream",
          "text": [
            "Training: 100%|█████████████████| 168/168 [00:01<00:00, 139.79it/s, loss=0.0387]\n"
          ]
        },
        {
          "name": "stdout",
          "output_type": "stream",
          "text": [
            "Epoch [7/30] Train Loss: 0.03872360478756794\n"
          ]
        },
        {
          "name": "stderr",
          "output_type": "stream",
          "text": [
            "Validation: 100%|█████████████████| 72/72 [00:00<00:00, 157.07it/s, loss=0.0342]\n"
          ]
        },
        {
          "name": "stdout",
          "output_type": "stream",
          "text": [
            "Epoch [7/30] Validation Loss: 0.03422206855935252\n"
          ]
        },
        {
          "name": "stderr",
          "output_type": "stream",
          "text": [
            "Training: 100%|█████████████████| 168/168 [00:01<00:00, 137.86it/s, loss=0.0327]\n"
          ]
        },
        {
          "name": "stdout",
          "output_type": "stream",
          "text": [
            "Epoch [8/30] Train Loss: 0.0327019439781517\n"
          ]
        },
        {
          "name": "stderr",
          "output_type": "stream",
          "text": [
            "Validation: 100%|█████████████████| 72/72 [00:00<00:00, 155.21it/s, loss=0.0373]\n"
          ]
        },
        {
          "name": "stdout",
          "output_type": "stream",
          "text": [
            "Epoch [8/30] Validation Loss: 0.03734635477141839\n"
          ]
        },
        {
          "name": "stderr",
          "output_type": "stream",
          "text": [
            "Training: 100%|█████████████████| 168/168 [00:01<00:00, 135.68it/s, loss=0.0356]\n"
          ]
        },
        {
          "name": "stdout",
          "output_type": "stream",
          "text": [
            "Epoch [9/30] Train Loss: 0.03560796978507867\n"
          ]
        },
        {
          "name": "stderr",
          "output_type": "stream",
          "text": [
            "Validation: 100%|█████████████████| 72/72 [00:00<00:00, 155.37it/s, loss=0.0409]\n"
          ]
        },
        {
          "name": "stdout",
          "output_type": "stream",
          "text": [
            "Epoch [9/30] Validation Loss: 0.04089845901398803\n"
          ]
        },
        {
          "name": "stderr",
          "output_type": "stream",
          "text": [
            "Training: 100%|█████████████████| 168/168 [00:01<00:00, 136.81it/s, loss=0.0343]\n"
          ]
        },
        {
          "name": "stdout",
          "output_type": "stream",
          "text": [
            "Epoch [10/30] Train Loss: 0.034252971674591425\n"
          ]
        },
        {
          "name": "stderr",
          "output_type": "stream",
          "text": [
            "Validation: 100%|█████████████████| 72/72 [00:00<00:00, 153.90it/s, loss=0.0388]\n"
          ]
        },
        {
          "name": "stdout",
          "output_type": "stream",
          "text": [
            "Epoch [10/30] Validation Loss: 0.03882684804496724\n"
          ]
        },
        {
          "name": "stderr",
          "output_type": "stream",
          "text": [
            "Training: 100%|█████████████████| 168/168 [00:01<00:00, 138.73it/s, loss=0.0331]\n"
          ]
        },
        {
          "name": "stdout",
          "output_type": "stream",
          "text": [
            "Epoch [11/30] Train Loss: 0.03305167252082832\n"
          ]
        },
        {
          "name": "stderr",
          "output_type": "stream",
          "text": [
            "Validation: 100%|█████████████████| 72/72 [00:00<00:00, 155.00it/s, loss=0.0454]\n"
          ]
        },
        {
          "name": "stdout",
          "output_type": "stream",
          "text": [
            "Epoch [11/30] Validation Loss: 0.04540025969092514\n"
          ]
        },
        {
          "name": "stderr",
          "output_type": "stream",
          "text": [
            "Training: 100%|█████████████████| 168/168 [00:01<00:00, 135.51it/s, loss=0.0301]\n"
          ]
        },
        {
          "name": "stdout",
          "output_type": "stream",
          "text": [
            "Epoch [12/30] Train Loss: 0.03012808299432176\n"
          ]
        },
        {
          "name": "stderr",
          "output_type": "stream",
          "text": [
            "Validation: 100%|█████████████████| 72/72 [00:00<00:00, 157.83it/s, loss=0.0372]\n"
          ]
        },
        {
          "name": "stdout",
          "output_type": "stream",
          "text": [
            "Epoch [12/30] Validation Loss: 0.03720840583648371\n"
          ]
        },
        {
          "name": "stderr",
          "output_type": "stream",
          "text": [
            "Training: 100%|█████████████████| 168/168 [00:01<00:00, 138.92it/s, loss=0.0304]\n"
          ]
        },
        {
          "name": "stdout",
          "output_type": "stream",
          "text": [
            "Epoch [13/30] Train Loss: 0.030433479537567195\n"
          ]
        },
        {
          "name": "stderr",
          "output_type": "stream",
          "text": [
            "Validation: 100%|█████████████████| 72/72 [00:00<00:00, 160.13it/s, loss=0.0438]\n"
          ]
        },
        {
          "name": "stdout",
          "output_type": "stream",
          "text": [
            "Epoch [13/30] Validation Loss: 0.04383453529771941\n"
          ]
        },
        {
          "name": "stderr",
          "output_type": "stream",
          "text": [
            "Training: 100%|█████████████████| 168/168 [00:01<00:00, 137.21it/s, loss=0.0274]\n"
          ]
        },
        {
          "name": "stdout",
          "output_type": "stream",
          "text": [
            "Epoch [14/30] Train Loss: 0.027426294209969154\n"
          ]
        },
        {
          "name": "stderr",
          "output_type": "stream",
          "text": [
            "Validation: 100%|█████████████████| 72/72 [00:00<00:00, 156.31it/s, loss=0.0463]\n"
          ]
        },
        {
          "name": "stdout",
          "output_type": "stream",
          "text": [
            "Epoch [14/30] Validation Loss: 0.04630647162351428\n"
          ]
        },
        {
          "name": "stderr",
          "output_type": "stream",
          "text": [
            "Training: 100%|█████████████████| 168/168 [00:01<00:00, 137.53it/s, loss=0.0277]\n"
          ]
        },
        {
          "name": "stdout",
          "output_type": "stream",
          "text": [
            "Epoch [15/30] Train Loss: 0.02771474479024099\n"
          ]
        },
        {
          "name": "stderr",
          "output_type": "stream",
          "text": [
            "Validation: 100%|█████████████████| 72/72 [00:00<00:00, 156.48it/s, loss=0.0509]\n"
          ]
        },
        {
          "name": "stdout",
          "output_type": "stream",
          "text": [
            "Epoch [15/30] Validation Loss: 0.050858664745141544\n"
          ]
        },
        {
          "name": "stderr",
          "output_type": "stream",
          "text": [
            "Training: 100%|█████████████████| 168/168 [00:01<00:00, 138.89it/s, loss=0.0287]\n"
          ]
        },
        {
          "name": "stdout",
          "output_type": "stream",
          "text": [
            "Epoch [16/30] Train Loss: 0.028659748730292665\n"
          ]
        },
        {
          "name": "stderr",
          "output_type": "stream",
          "text": [
            "Validation: 100%|█████████████████| 72/72 [00:00<00:00, 155.05it/s, loss=0.0429]\n"
          ]
        },
        {
          "name": "stdout",
          "output_type": "stream",
          "text": [
            "Epoch [16/30] Validation Loss: 0.042862602280567645\n"
          ]
        },
        {
          "name": "stderr",
          "output_type": "stream",
          "text": [
            "Training: 100%|█████████████████| 168/168 [00:01<00:00, 136.78it/s, loss=0.0193]\n"
          ]
        },
        {
          "name": "stdout",
          "output_type": "stream",
          "text": [
            "Epoch [17/30] Train Loss: 0.019339816354355815\n"
          ]
        },
        {
          "name": "stderr",
          "output_type": "stream",
          "text": [
            "Validation: 100%|█████████████████| 72/72 [00:00<00:00, 157.88it/s, loss=0.0397]\n"
          ]
        },
        {
          "name": "stdout",
          "output_type": "stream",
          "text": [
            "Epoch [17/30] Validation Loss: 0.03971146041840257\n"
          ]
        },
        {
          "name": "stderr",
          "output_type": "stream",
          "text": [
            "Training: 100%|█████████████████| 168/168 [00:01<00:00, 126.61it/s, loss=0.0223]\n"
          ]
        },
        {
          "name": "stdout",
          "output_type": "stream",
          "text": [
            "Epoch [18/30] Train Loss: 0.022309415107364266\n"
          ]
        },
        {
          "name": "stderr",
          "output_type": "stream",
          "text": [
            "Validation: 100%|█████████████████| 72/72 [00:00<00:00, 138.76it/s, loss=0.0477]\n"
          ]
        },
        {
          "name": "stdout",
          "output_type": "stream",
          "text": [
            "Epoch [18/30] Validation Loss: 0.04767566159734492\n"
          ]
        },
        {
          "name": "stderr",
          "output_type": "stream",
          "text": [
            "Training: 100%|█████████████████| 168/168 [00:01<00:00, 136.03it/s, loss=0.0275]\n"
          ]
        },
        {
          "name": "stdout",
          "output_type": "stream",
          "text": [
            "Epoch [19/30] Train Loss: 0.027466415036109366\n"
          ]
        },
        {
          "name": "stderr",
          "output_type": "stream",
          "text": [
            "Validation: 100%|█████████████████| 72/72 [00:00<00:00, 153.10it/s, loss=0.0452]\n"
          ]
        },
        {
          "name": "stdout",
          "output_type": "stream",
          "text": [
            "Epoch [19/30] Validation Loss: 0.04520998123300362\n"
          ]
        },
        {
          "name": "stderr",
          "output_type": "stream",
          "text": [
            "Training: 100%|█████████████████| 168/168 [00:01<00:00, 139.36it/s, loss=0.0307]\n"
          ]
        },
        {
          "name": "stdout",
          "output_type": "stream",
          "text": [
            "Epoch [20/30] Train Loss: 0.030713143446129316\n"
          ]
        },
        {
          "name": "stderr",
          "output_type": "stream",
          "text": [
            "Validation: 100%|█████████████████| 72/72 [00:00<00:00, 155.30it/s, loss=0.0567]\n"
          ]
        },
        {
          "name": "stdout",
          "output_type": "stream",
          "text": [
            "Epoch [20/30] Validation Loss: 0.05667133948574903\n"
          ]
        },
        {
          "name": "stderr",
          "output_type": "stream",
          "text": [
            "Training: 100%|█████████████████| 168/168 [00:01<00:00, 139.54it/s, loss=0.0221]\n"
          ]
        },
        {
          "name": "stdout",
          "output_type": "stream",
          "text": [
            "Epoch [21/30] Train Loss: 0.022059973280799266\n"
          ]
        },
        {
          "name": "stderr",
          "output_type": "stream",
          "text": [
            "Validation: 100%|█████████████████| 72/72 [00:00<00:00, 157.38it/s, loss=0.0397]\n"
          ]
        },
        {
          "name": "stdout",
          "output_type": "stream",
          "text": [
            "Epoch [21/30] Validation Loss: 0.03969193083119333\n"
          ]
        },
        {
          "name": "stderr",
          "output_type": "stream",
          "text": [
            "Training: 100%|█████████████████| 168/168 [00:01<00:00, 140.36it/s, loss=0.0256]\n"
          ]
        },
        {
          "name": "stdout",
          "output_type": "stream",
          "text": [
            "Epoch [22/30] Train Loss: 0.025620731208445727\n"
          ]
        },
        {
          "name": "stderr",
          "output_type": "stream",
          "text": [
            "Validation: 100%|██████████████████| 72/72 [00:00<00:00, 154.31it/s, loss=0.046]\n"
          ]
        },
        {
          "name": "stdout",
          "output_type": "stream",
          "text": [
            "Epoch [22/30] Validation Loss: 0.04604798716112176\n"
          ]
        },
        {
          "name": "stderr",
          "output_type": "stream",
          "text": [
            "Training: 100%|██████████████████| 168/168 [00:01<00:00, 138.89it/s, loss=0.022]\n"
          ]
        },
        {
          "name": "stdout",
          "output_type": "stream",
          "text": [
            "Epoch [23/30] Train Loss: 0.02198525760121854\n"
          ]
        },
        {
          "name": "stderr",
          "output_type": "stream",
          "text": [
            "Validation: 100%|█████████████████| 72/72 [00:00<00:00, 157.45it/s, loss=0.0431]\n"
          ]
        },
        {
          "name": "stdout",
          "output_type": "stream",
          "text": [
            "Epoch [23/30] Validation Loss: 0.043142043826012215\n"
          ]
        },
        {
          "name": "stderr",
          "output_type": "stream",
          "text": [
            "Training: 100%|█████████████████| 168/168 [00:01<00:00, 135.50it/s, loss=0.0189]\n"
          ]
        },
        {
          "name": "stdout",
          "output_type": "stream",
          "text": [
            "Epoch [24/30] Train Loss: 0.01888838153575177\n"
          ]
        },
        {
          "name": "stderr",
          "output_type": "stream",
          "text": [
            "Validation: 100%|█████████████████| 72/72 [00:00<00:00, 158.04it/s, loss=0.0401]\n"
          ]
        },
        {
          "name": "stdout",
          "output_type": "stream",
          "text": [
            "Epoch [24/30] Validation Loss: 0.04013342797401896\n"
          ]
        },
        {
          "name": "stderr",
          "output_type": "stream",
          "text": [
            "Training: 100%|█████████████████| 168/168 [00:01<00:00, 136.67it/s, loss=0.0206]\n"
          ]
        },
        {
          "name": "stdout",
          "output_type": "stream",
          "text": [
            "Epoch [25/30] Train Loss: 0.02062189068133843\n"
          ]
        },
        {
          "name": "stderr",
          "output_type": "stream",
          "text": [
            "Validation: 100%|█████████████████| 72/72 [00:00<00:00, 154.72it/s, loss=0.0482]\n"
          ]
        },
        {
          "name": "stdout",
          "output_type": "stream",
          "text": [
            "Epoch [25/30] Validation Loss: 0.048244417440501924\n"
          ]
        },
        {
          "name": "stderr",
          "output_type": "stream",
          "text": [
            "Training: 100%|█████████████████| 168/168 [00:01<00:00, 139.62it/s, loss=0.0278]\n"
          ]
        },
        {
          "name": "stdout",
          "output_type": "stream",
          "text": [
            "Epoch [26/30] Train Loss: 0.027788216903510538\n"
          ]
        },
        {
          "name": "stderr",
          "output_type": "stream",
          "text": [
            "Validation: 100%|█████████████████| 72/72 [00:00<00:00, 156.75it/s, loss=0.0382]\n"
          ]
        },
        {
          "name": "stdout",
          "output_type": "stream",
          "text": [
            "Epoch [26/30] Validation Loss: 0.03815588849992461\n"
          ]
        },
        {
          "name": "stderr",
          "output_type": "stream",
          "text": [
            "Training: 100%|█████████████████| 168/168 [00:01<00:00, 134.41it/s, loss=0.0193]\n"
          ]
        },
        {
          "name": "stdout",
          "output_type": "stream",
          "text": [
            "Epoch [27/30] Train Loss: 0.019341656480481192\n"
          ]
        },
        {
          "name": "stderr",
          "output_type": "stream",
          "text": [
            "Validation: 100%|█████████████████| 72/72 [00:00<00:00, 158.24it/s, loss=0.0449]\n"
          ]
        },
        {
          "name": "stdout",
          "output_type": "stream",
          "text": [
            "Epoch [27/30] Validation Loss: 0.044872063286245774\n"
          ]
        },
        {
          "name": "stderr",
          "output_type": "stream",
          "text": [
            "Training: 100%|█████████████████| 168/168 [00:01<00:00, 136.80it/s, loss=0.0219]\n"
          ]
        },
        {
          "name": "stdout",
          "output_type": "stream",
          "text": [
            "Epoch [28/30] Train Loss: 0.021920076200937427\n"
          ]
        },
        {
          "name": "stderr",
          "output_type": "stream",
          "text": [
            "Validation: 100%|█████████████████| 72/72 [00:00<00:00, 139.16it/s, loss=0.0417]\n"
          ]
        },
        {
          "name": "stdout",
          "output_type": "stream",
          "text": [
            "Epoch [28/30] Validation Loss: 0.04169640849770278\n"
          ]
        },
        {
          "name": "stderr",
          "output_type": "stream",
          "text": [
            "Training: 100%|██████████████████| 168/168 [00:01<00:00, 135.23it/s, loss=0.023]\n"
          ]
        },
        {
          "name": "stdout",
          "output_type": "stream",
          "text": [
            "Epoch [29/30] Train Loss: 0.022968304885309754\n"
          ]
        },
        {
          "name": "stderr",
          "output_type": "stream",
          "text": [
            "Validation: 100%|█████████████████| 72/72 [00:00<00:00, 156.25it/s, loss=0.0505]\n"
          ]
        },
        {
          "name": "stdout",
          "output_type": "stream",
          "text": [
            "Epoch [29/30] Validation Loss: 0.050509686620200805\n"
          ]
        },
        {
          "name": "stderr",
          "output_type": "stream",
          "text": [
            "Training: 100%|██████████████████| 168/168 [00:01<00:00, 139.65it/s, loss=0.021]\n"
          ]
        },
        {
          "name": "stdout",
          "output_type": "stream",
          "text": [
            "Epoch [30/30] Train Loss: 0.02103841142414218\n"
          ]
        },
        {
          "name": "stderr",
          "output_type": "stream",
          "text": [
            "Validation: 100%|█████████████████| 72/72 [00:00<00:00, 158.91it/s, loss=0.0429]"
          ]
        },
        {
          "name": "stdout",
          "output_type": "stream",
          "text": [
            "Epoch [30/30] Validation Loss: 0.042913090224020484\n"
          ]
        },
        {
          "name": "stderr",
          "output_type": "stream",
          "text": [
            "\n"
          ]
        }
      ],
      "source": [
        "train_loss_lst, val_loss_lst = train(train_loader, val_loader, \"subset1\", net, epochs=30)"
      ],
      "id": "re1rcjMPPqpi"
    },
    {
      "cell_type": "code",
      "execution_count": null,
      "metadata": {
        "cell_ktag": "fpB/LOm/P3FD",
        "id": "-71GwDjPPqpi",
        "outputId": "327efe4c-2bf2-4ad8-a485-aacc0458ec8e"
      },
      "outputs": [
        {
          "data": {
            "image/png": "[encoded data removed]",
            "text/plain": [
              "<Figure size 640x480 with 1 Axes>"
            ]
          },
          "metadata": {},
          "output_type": "display_data"
        }
      ],
      "source": [
        "plot_losses(train_loss_lst,val_loss_lst)"
      ],
      "id": "-71GwDjPPqpi"
    },
    {
      "cell_type": "code",
      "execution_count": null,
      "metadata": {
        "cell_ktag": "fpB/LOm/P3FD",
        "id": "izQ8kJrlPqpi"
      },
      "outputs": [],
      "source": [
        "# save the model\n",
        "path1=...\n",
        "torch.save(net,path1)\n",
        "\n",
        "path2=...\n",
        "# Save the state dictionary\n",
        "torch.save(net.state_dict(), path2)\n"
      ],
      "id": "izQ8kJrlPqpi"
    },
    {
      "cell_type": "markdown",
      "metadata": {
        "cell_ktag": "fpB/LOm/P3FD",
        "id": "xWXIGoHZPqpi"
      },
      "source": [
        "# Otherwise load an already pre-trained model\n",
        "Either the one you have created above, either the one already available at https://www.lri.fr/~gcharpia/deeppractice/2024/TP4/models/\n"
      ],
      "id": "xWXIGoHZPqpi"
    },
    {
      "cell_type": "code",
      "execution_count": 12,
      "metadata": {
        "cell_ktag": "fpB/LOm/P3FD",
        "id": "dB4-WZpEPqpi"
      },
      "outputs": [],
      "source": [
        "path1 = '/content/model_pretrained_subset1.pth'\n",
        "net = torch.load(path1, map_location=torch.device('cpu'))\n",
        "# net=torch.load(path1).to(device)"
      ],
      "id": "dB4-WZpEPqpi"
    },
    {
      "cell_type": "markdown",
      "metadata": {
        "cell_ktag": "fpB/LOm/P3FD",
        "id": "6EGMrQO5Pqpj"
      },
      "source": [
        "# Count the number of weights & compare it with parameters added by LoRA"
      ],
      "id": "6EGMrQO5Pqpj"
    },
    {
      "cell_type": "code",
      "execution_count": 13,
      "metadata": {
        "cell_ktag": "fpB/LOm/P3FD",
        "id": "OHgJLYPEPqpj"
      },
      "outputs": [],
      "source": [
        "original_weights = {}\n",
        "for name, param in net.named_parameters():\n",
        "    original_weights[name] = param.clone().detach()"
      ],
      "id": "OHgJLYPEPqpj"
    },
    {
      "cell_type": "code",
      "execution_count": 14,
      "metadata": {
        "cell_ktag": "fpB/LOm/P3FD",
        "colab": {
          "base_uri": "https://localhost:8080/"
        },
        "id": "bipjgcHvPqpj",
        "outputId": "fcd4c787-fb5d-4f90-e745-24a0650e235e"
      },
      "outputs": [
        {
          "output_type": "stream",
          "name": "stdout",
          "text": [
            "Layer 1: W: torch.Size([1000, 784]) + B: torch.Size([1000])\n",
            "Layer 2: W: torch.Size([2000, 1000]) + B: torch.Size([2000])\n",
            "Layer 3: W: torch.Size([5, 2000]) + B: torch.Size([5])\n",
            "Total number of parameters: 2,797,005\n"
          ]
        }
      ],
      "source": [
        "# Print the size of the weights matrices of the network\n",
        "# Save the count of the total number of parameters\n",
        "net.eval()\n",
        "total_parameters_original = 0\n",
        "for index, layer in enumerate([net.linear1, net.linear2, net.linear3]):\n",
        "    total_parameters_original += layer.weight.nelement() + layer.bias.nelement()\n",
        "    print(f'Layer {index+1}: W: {layer.weight.shape} + B: {layer.bias.shape}')\n",
        "print(f'Total number of parameters: {total_parameters_original:,}')\n"
      ],
      "id": "bipjgcHvPqpj"
    },
    {
      "cell_type": "markdown",
      "metadata": {
        "cell_ktag": "fpB/LOm/P3FD",
        "id": "Ye5LMwY2Pqpj"
      },
      "source": [
        "# Test the model on digits 0...4"
      ],
      "id": "Ye5LMwY2Pqpj"
    },
    {
      "cell_type": "code",
      "execution_count": null,
      "metadata": {
        "cell_ktag": "fpB/LOm/P3FD",
        "id": "f6u94gv0Pqpj",
        "outputId": "5338ae47-1756-4e5a-abbe-fce14b291a56"
      },
      "outputs": [
        {
          "name": "stderr",
          "output_type": "stream",
          "text": [
            "Testing: 100%|█████████████████████████████████| 41/41 [00:00<00:00, 100.77it/s]"
          ]
        },
        {
          "name": "stdout",
          "output_type": "stream",
          "text": [
            "Accuracy: 0.993\n",
            "Wrong counts for the digit 0: 3\n",
            "Wrong counts for the digit 1: 6\n",
            "Wrong counts for the digit 2: 16\n",
            "Wrong counts for the digit 3: 6\n",
            "Wrong counts for the digit 4: 6\n"
          ]
        },
        {
          "name": "stderr",
          "output_type": "stream",
          "text": [
            "\n"
          ]
        },
        {
          "data": {
            "text/plain": [
              "0.993"
            ]
          },
          "execution_count": 11,
          "metadata": {},
          "output_type": "execute_result"
        }
      ],
      "source": [
        "def test(loader, name, net, wrong_counts):\n",
        "    correct = 0\n",
        "    total = 0\n",
        "\n",
        "    net.eval()\n",
        "    with torch.no_grad():\n",
        "        for data in tqdm(loader, desc=name):\n",
        "            x, y = data\n",
        "            x = x.to(device)\n",
        "            y = y.to(device)\n",
        "            y = process_labels(name, y)\n",
        "            output = net(x.view(-1, 784))\n",
        "            for idx, i in enumerate(output):\n",
        "                if torch.argmax(i) == y[idx]:\n",
        "                    correct += 1\n",
        "                else:\n",
        "                    wrong_digit = y[idx].item() + 5 if 'subset2' in name else y[idx].item()\n",
        "                    wrong_counts[wrong_digit] += 1\n",
        "\n",
        "                total += 1\n",
        "\n",
        "    accuracy = round(correct / total, 3)\n",
        "    print(f'Accuracy: {accuracy}')\n",
        "    for key, value in wrong_counts.items():\n",
        "        print(f'Wrong counts for the digit {key}: {value}')\n",
        "\n",
        "    return accuracy\n",
        "\n",
        "test(test_loader, \"Testing\", net, {i: 0 for i in range(5)})\n"
      ],
      "id": "f6u94gv0Pqpj"
    },
    {
      "cell_type": "markdown",
      "metadata": {
        "cell_ktag": "fpB/LOm/P3FD",
        "id": "ACOZyEeNPqpj"
      },
      "source": [
        "# Define train, validation, test sets for digits 5...9"
      ],
      "id": "ACOZyEeNPqpj"
    },
    {
      "cell_type": "markdown",
      "metadata": {
        "cell_ktag": "fpB/LOm/P3FD",
        "id": "s70PB1GSPqpj"
      },
      "source": [
        "__Question 1 (0.25 points) :__"
      ],
      "id": "s70PB1GSPqpj"
    },
    {
      "cell_type": "code",
      "execution_count": 24,
      "metadata": {
        "cell_ktag": "fpB/LOm/P3FD",
        "id": "lPmBOD8pPqpj"
      },
      "outputs": [],
      "source": [
        "#same code as before except for the mask\n",
        "\n",
        "# create a mask to filter indices for each label, retrieve digits 5...9\n",
        "#######\n",
        "class_names = [5, 6, 7, 8, 9]\n",
        "train_mask_subset2 = torch.tensor([label in class_names for label in mnist_train.targets])\n",
        "test_mask_subset2 = torch.tensor([label in class_names for label in mnist_test.targets])\n",
        "#######\n",
        "\n",
        "# Create Subset datasets for train, validation, and test\n",
        "train_dataset_subset2 = Subset(mnist_train, torch.where(train_mask_subset2)[0])\n",
        "test_dataset_subset2 = Subset(mnist_test, torch.where(test_mask_subset2)[0])\n",
        "\n",
        "# split train into train & validation\n",
        "train_size_subset2 = int(0.7 * len(train_dataset_subset2))\n",
        "val_size_subset2 = len(train_dataset_subset2) - train_size_subset2\n",
        "train_dataset_subset2, val_dataset_subset2 = random_split(train_dataset_subset2, [train_size_subset2, val_size_subset2])\n",
        "\n",
        "train_loader_subset2 = DataLoader(train_dataset_subset2, batch_size=batch_size, shuffle=True)\n",
        "val_loader_subset2 = DataLoader(val_dataset_subset2, batch_size=batch_size, shuffle=False)\n",
        "test_loader_subset2 = DataLoader(test_dataset_subset2, batch_size=batch_size, shuffle=False)"
      ],
      "id": "lPmBOD8pPqpj"
    },
    {
      "cell_type": "markdown",
      "metadata": {
        "cell_ktag": "fpB/LOm/P3FD",
        "id": "GKbP6IyXPqpj"
      },
      "source": [
        "# Verify that pre-trained model on digits 0...4 is bad on digits 5...9"
      ],
      "id": "GKbP6IyXPqpj"
    },
    {
      "cell_type": "markdown",
      "metadata": {
        "cell_ktag": "fpB/LOm/P3FD",
        "id": "5E6toXOBPqpj"
      },
      "source": [
        "__Question 2 (0.25 points) :__"
      ],
      "id": "5E6toXOBPqpj"
    },
    {
      "cell_type": "markdown",
      "metadata": {
        "cell_ktag": "fpB/LOm/P3FD",
        "id": "izI_ijZNPqpk"
      },
      "source": [
        "You should display the number of wrong predictions for each digits & global accuracy. \\\n",
        "Note that it's better than random guess ($\\frac{1}{5}\\times 100= $20%) for digit 8 and 9 because 3 looks like 8 and 4 looks like 9\n"
      ],
      "id": "izI_ijZNPqpk"
    },
    {
      "cell_type": "code",
      "source": [
        "def test(loader, name, net, wrong_counts):\n",
        "    correct = 0\n",
        "    total = 0\n",
        "\n",
        "    net.eval()\n",
        "    with torch.no_grad():\n",
        "        for data in tqdm(loader, desc=name):\n",
        "            x, y = data\n",
        "            x = x.to(device)\n",
        "            y = y.to(device)\n",
        "            y = process_labels(name, y)\n",
        "            output = net(x.view(-1, 784))\n",
        "            for idx, i in enumerate(output):\n",
        "                if torch.argmax(i) == y[idx]:\n",
        "                    correct += 1\n",
        "                else:\n",
        "                    wrong_digit = y[idx].item() + 5 if 'subset2' in name else y[idx].item()\n",
        "                    wrong_counts[wrong_digit] += 1\n",
        "\n",
        "                total += 1\n",
        "\n",
        "    accuracy = round(correct / total, 3)\n",
        "    print(f'Accuracy: {accuracy}')\n",
        "    for key, value in wrong_counts.items():\n",
        "        print(f'Wrong counts for the digit {key}: {value}')\n",
        "\n",
        "    return accuracy"
      ],
      "metadata": {
        "id": "TmGRKi7dfeIi"
      },
      "id": "TmGRKi7dfeIi",
      "execution_count": 15,
      "outputs": []
    },
    {
      "cell_type": "code",
      "execution_count": 34,
      "metadata": {
        "cell_ktag": "fpB/LOm/P3FD",
        "colab": {
          "base_uri": "https://localhost:8080/"
        },
        "id": "5Q-2eFQ5Pqpk",
        "outputId": "a66cf90c-a909-4d02-9bd9-c541ea2da2da"
      },
      "outputs": [
        {
          "output_type": "stream",
          "name": "stderr",
          "text": [
            "subset2: 100%|██████████| 38/38 [00:05<00:00,  7.23it/s]"
          ]
        },
        {
          "output_type": "stream",
          "name": "stdout",
          "text": [
            "Accuracy: 0.921\n",
            "Wrong counts for the digit 5: 86\n",
            "Wrong counts for the digit 6: 40\n",
            "Wrong counts for the digit 7: 89\n",
            "Wrong counts for the digit 8: 95\n",
            "Wrong counts for the digit 9: 75\n"
          ]
        },
        {
          "output_type": "stream",
          "name": "stderr",
          "text": [
            "\n"
          ]
        },
        {
          "output_type": "execute_result",
          "data": {
            "text/plain": [
              "0.921"
            ]
          },
          "metadata": {},
          "execution_count": 34
        }
      ],
      "source": [
        "#######\n",
        "test(test_loader_subset2, \"subset2\", net, {i: 0 for i in [5, 6, 7, 8, 9]})\n",
        "#######"
      ],
      "id": "5Q-2eFQ5Pqpk"
    },
    {
      "cell_type": "markdown",
      "metadata": {
        "cell_ktag": "fpB/LOm/P3FD",
        "id": "Yd1SScHvPqpk"
      },
      "source": [
        "# Fine-tune the model on digits 5...9"
      ],
      "id": "Yd1SScHvPqpk"
    },
    {
      "cell_type": "markdown",
      "metadata": {
        "cell_ktag": "fpB/LOm/P3FD",
        "id": "DzlzxpsmPqpk"
      },
      "source": [
        "__Question 3 (0.5 points) :__"
      ],
      "id": "DzlzxpsmPqpk"
    },
    {
      "cell_type": "markdown",
      "metadata": {
        "cell_ktag": "fpB/LOm/P3FD",
        "id": "zJC8igKWPqpk"
      },
      "source": [
        "You will fine-tune all the layers of the model (ie. all parameters of all fully-connected matrices) for 10 epochs"
      ],
      "id": "zJC8igKWPqpk"
    },
    {
      "cell_type": "code",
      "execution_count": 31,
      "metadata": {
        "cell_ktag": "fpB/LOm/P3FD",
        "colab": {
          "base_uri": "https://localhost:8080/"
        },
        "id": "YscoODA1Pqpk",
        "outputId": "a4089740-d749-440a-cc7a-399be63560c5"
      },
      "outputs": [
        {
          "output_type": "stream",
          "name": "stderr",
          "text": [
            "Training: 100%|██████████| 161/161 [00:20<00:00,  7.67it/s, loss=5.9]\n"
          ]
        },
        {
          "output_type": "stream",
          "name": "stdout",
          "text": [
            "Epoch [1/10] Train Loss: 5.900340548213224\n"
          ]
        },
        {
          "output_type": "stream",
          "name": "stderr",
          "text": [
            "Validation: 100%|██████████| 69/69 [00:03<00:00, 18.49it/s, loss=4.23]\n"
          ]
        },
        {
          "output_type": "stream",
          "name": "stdout",
          "text": [
            "Epoch [1/10] Validation Loss: 4.22921107471853\n"
          ]
        },
        {
          "output_type": "stream",
          "name": "stderr",
          "text": [
            "Training: 100%|██████████| 161/161 [00:20<00:00,  7.86it/s, loss=3.87]\n"
          ]
        },
        {
          "output_type": "stream",
          "name": "stdout",
          "text": [
            "Epoch [2/10] Train Loss: 3.8744356276826086\n"
          ]
        },
        {
          "output_type": "stream",
          "name": "stderr",
          "text": [
            "Validation: 100%|██████████| 69/69 [00:03<00:00, 17.41it/s, loss=2.46]\n"
          ]
        },
        {
          "output_type": "stream",
          "name": "stdout",
          "text": [
            "Epoch [2/10] Validation Loss: 2.464656242425891\n"
          ]
        },
        {
          "output_type": "stream",
          "name": "stderr",
          "text": [
            "Training: 100%|██████████| 161/161 [00:19<00:00,  8.09it/s, loss=2.37]\n"
          ]
        },
        {
          "output_type": "stream",
          "name": "stdout",
          "text": [
            "Epoch [3/10] Train Loss: 2.366246415221173\n"
          ]
        },
        {
          "output_type": "stream",
          "name": "stderr",
          "text": [
            "Validation: 100%|██████████| 69/69 [00:04<00:00, 15.84it/s, loss=1.4]\n"
          ]
        },
        {
          "output_type": "stream",
          "name": "stdout",
          "text": [
            "Epoch [3/10] Validation Loss: 1.4030338819476142\n"
          ]
        },
        {
          "output_type": "stream",
          "name": "stderr",
          "text": [
            "Training: 100%|██████████| 161/161 [00:19<00:00,  8.22it/s, loss=1.46]\n"
          ]
        },
        {
          "output_type": "stream",
          "name": "stdout",
          "text": [
            "Epoch [4/10] Train Loss: 1.4620359621432997\n"
          ]
        },
        {
          "output_type": "stream",
          "name": "stderr",
          "text": [
            "Validation: 100%|██████████| 69/69 [00:04<00:00, 15.13it/s, loss=0.829]\n"
          ]
        },
        {
          "output_type": "stream",
          "name": "stdout",
          "text": [
            "Epoch [4/10] Validation Loss: 0.8288334288458893\n"
          ]
        },
        {
          "output_type": "stream",
          "name": "stderr",
          "text": [
            "Training: 100%|██████████| 161/161 [00:19<00:00,  8.13it/s, loss=0.991]\n"
          ]
        },
        {
          "output_type": "stream",
          "name": "stdout",
          "text": [
            "Epoch [5/10] Train Loss: 0.9914091262758148\n"
          ]
        },
        {
          "output_type": "stream",
          "name": "stderr",
          "text": [
            "Validation: 100%|██████████| 69/69 [00:04<00:00, 14.95it/s, loss=0.578]\n"
          ]
        },
        {
          "output_type": "stream",
          "name": "stdout",
          "text": [
            "Epoch [5/10] Validation Loss: 0.5781129805938058\n"
          ]
        },
        {
          "output_type": "stream",
          "name": "stderr",
          "text": [
            "Training: 100%|██████████| 161/161 [00:20<00:00,  7.86it/s, loss=0.746]\n"
          ]
        },
        {
          "output_type": "stream",
          "name": "stdout",
          "text": [
            "Epoch [6/10] Train Loss: 0.7456229310598432\n"
          ]
        },
        {
          "output_type": "stream",
          "name": "stderr",
          "text": [
            "Validation: 100%|██████████| 69/69 [00:04<00:00, 15.48it/s, loss=0.454]\n"
          ]
        },
        {
          "output_type": "stream",
          "name": "stdout",
          "text": [
            "Epoch [6/10] Validation Loss: 0.45432008003843005\n"
          ]
        },
        {
          "output_type": "stream",
          "name": "stderr",
          "text": [
            "Training: 100%|██████████| 161/161 [00:21<00:00,  7.58it/s, loss=0.615]\n"
          ]
        },
        {
          "output_type": "stream",
          "name": "stdout",
          "text": [
            "Epoch [7/10] Train Loss: 0.6153653275152171\n"
          ]
        },
        {
          "output_type": "stream",
          "name": "stderr",
          "text": [
            "Validation: 100%|██████████| 69/69 [00:04<00:00, 14.91it/s, loss=0.38]\n"
          ]
        },
        {
          "output_type": "stream",
          "name": "stdout",
          "text": [
            "Epoch [7/10] Validation Loss: 0.3795171127371166\n"
          ]
        },
        {
          "output_type": "stream",
          "name": "stderr",
          "text": [
            "Training: 100%|██████████| 161/161 [00:22<00:00,  7.11it/s, loss=0.524]\n"
          ]
        },
        {
          "output_type": "stream",
          "name": "stdout",
          "text": [
            "Epoch [8/10] Train Loss: 0.5235369642328772\n"
          ]
        },
        {
          "output_type": "stream",
          "name": "stderr",
          "text": [
            "Validation: 100%|██████████| 69/69 [00:04<00:00, 15.46it/s, loss=0.326]\n"
          ]
        },
        {
          "output_type": "stream",
          "name": "stdout",
          "text": [
            "Epoch [8/10] Validation Loss: 0.3260423549707385\n"
          ]
        },
        {
          "output_type": "stream",
          "name": "stderr",
          "text": [
            "Training: 100%|██████████| 161/161 [00:23<00:00,  6.73it/s, loss=0.466]\n"
          ]
        },
        {
          "output_type": "stream",
          "name": "stdout",
          "text": [
            "Epoch [9/10] Train Loss: 0.46642375445884204\n"
          ]
        },
        {
          "output_type": "stream",
          "name": "stderr",
          "text": [
            "Validation: 100%|██████████| 69/69 [00:03<00:00, 17.79it/s, loss=0.286]\n"
          ]
        },
        {
          "output_type": "stream",
          "name": "stdout",
          "text": [
            "Epoch [9/10] Validation Loss: 0.2862212867408559\n"
          ]
        },
        {
          "output_type": "stream",
          "name": "stderr",
          "text": [
            "Training: 100%|██████████| 161/161 [00:23<00:00,  6.84it/s, loss=0.406]\n"
          ]
        },
        {
          "output_type": "stream",
          "name": "stdout",
          "text": [
            "Epoch [10/10] Train Loss: 0.40609635357160745\n"
          ]
        },
        {
          "output_type": "stream",
          "name": "stderr",
          "text": [
            "Validation: 100%|██████████| 69/69 [00:03<00:00, 18.36it/s, loss=0.254]"
          ]
        },
        {
          "output_type": "stream",
          "name": "stdout",
          "text": [
            "Epoch [10/10] Validation Loss: 0.25399681580239447\n"
          ]
        },
        {
          "output_type": "stream",
          "name": "stderr",
          "text": [
            "\n"
          ]
        }
      ],
      "source": [
        "#######\n",
        "train_loss_lst, val_loss_lst = train(train_loader_subset2, val_loader_subset2, \"subset2\", net, epochs=10)\n",
        "#######"
      ],
      "id": "YscoODA1Pqpk"
    },
    {
      "cell_type": "code",
      "execution_count": 32,
      "metadata": {
        "cell_ktag": "fpB/LOm/P3FD",
        "colab": {
          "base_uri": "https://localhost:8080/",
          "height": 430
        },
        "id": "6qUVSDNGPqpk",
        "outputId": "cadb186b-decc-45ee-eb07-df085c788574"
      },
      "outputs": [
        {
          "output_type": "display_data",
          "data": {
            "text/plain": [
              "<Figure size 640x480 with 1 Axes>"
            ],
            "image/png": "[encoded data removed]"
          },
          "metadata": {}
        }
      ],
      "source": [
        "#plot the train and validation losses\n",
        "#######\n",
        "plot_losses(train_loss_lst,val_loss_lst)\n",
        "#######"
      ],
      "id": "6qUVSDNGPqpk"
    },
    {
      "cell_type": "code",
      "execution_count": 40,
      "metadata": {
        "cell_ktag": "fpB/LOm/P3FD",
        "colab": {
          "base_uri": "https://localhost:8080/"
        },
        "id": "TtK52IZfPqpk",
        "outputId": "95b94008-c5b2-48dc-ac91-171883468375"
      },
      "outputs": [
        {
          "output_type": "stream",
          "name": "stderr",
          "text": [
            "subset2: 100%|██████████| 38/38 [00:01<00:00, 19.05it/s]"
          ]
        },
        {
          "output_type": "stream",
          "name": "stdout",
          "text": [
            "Accuracy: 0.921\n",
            "Wrong counts for the digit 5: 86\n",
            "Wrong counts for the digit 6: 40\n",
            "Wrong counts for the digit 7: 89\n",
            "Wrong counts for the digit 8: 95\n",
            "Wrong counts for the digit 9: 75\n",
            "Accuracy: 0.921\n"
          ]
        },
        {
          "output_type": "stream",
          "name": "stderr",
          "text": [
            "\n"
          ]
        }
      ],
      "source": [
        "#test accuracy of fine-tuned model on digits 5...9\n",
        "# & save this number into a variable, we will need it for final plot\n",
        "\n",
        "#######\n",
        "fine_tune_subset2_acc = test(test_loader_subset2, \"subset2\", net, {i: 0 for i in [5, 6, 7, 8, 9]})\n",
        "print('Accuracy: %.3f' %fine_tune_subset2_acc)\n",
        "#######"
      ],
      "id": "TtK52IZfPqpk"
    },
    {
      "cell_type": "markdown",
      "metadata": {
        "cell_ktag": "fpB/LOm/P3FD",
        "id": "X26_i6RXPqpk"
      },
      "source": [
        "# Fine-tune the model on digits 5...9 with LoRA"
      ],
      "id": "X26_i6RXPqpk"
    },
    {
      "cell_type": "markdown",
      "metadata": {
        "cell_ktag": "fpB/LOm/P3FD",
        "id": "8MWulCOiPqpl"
      },
      "source": [
        "__Question 4 (2.5 points) :__"
      ],
      "id": "8MWulCOiPqpl"
    },
    {
      "cell_type": "markdown",
      "metadata": {
        "cell_ktag": "fpB/LOm/P3FD",
        "id": "wQ_ekVQhPqpl"
      },
      "source": [
        "You will now implement one LoRA per layer"
      ],
      "id": "wQ_ekVQhPqpl"
    },
    {
      "cell_type": "code",
      "source": [
        "path2 = '/content/model_pretrained_subset1_state_dict.pth'"
      ],
      "metadata": {
        "id": "J19rcWX9i3mZ"
      },
      "id": "J19rcWX9i3mZ",
      "execution_count": 16,
      "outputs": []
    },
    {
      "cell_type": "code",
      "execution_count": 21,
      "metadata": {
        "cell_ktag": "fpB/LOm/P3FD",
        "id": "2EGAZqrjPqpl"
      },
      "outputs": [],
      "source": [
        "import torch.nn.functional as F\n",
        "\n",
        "class ModifiedClassifier(nn.Module):\n",
        "    def __init__(self, lora_rank):\n",
        "        super(ModifiedClassifier, self).__init__()\n",
        "\n",
        "        # Load the pretrained model\n",
        "        # self.pretrained_net = classifier().to(device)\n",
        "        # self.pretrained_net.load_state_dict(torch.load(path2))\n",
        "\n",
        "        self.pretrained_net = classifier()\n",
        "        self.pretrained_net.load_state_dict(torch.load(path2, map_location=torch.device('cpu')))\n",
        "\n",
        "\n",
        "        self.relu = nn.ReLU()\n",
        "\n",
        "        self.dropout = nn.Dropout(0.5)\n",
        "\n",
        "        self.original_weights = {}\n",
        "        for name, param in self.pretrained_net.named_parameters():\n",
        "          self.original_weights[name] = param.clone().detach()\n",
        "\n",
        "        # Define lora hyperparameters\n",
        "        #######\n",
        "        self.lora_rank = lora_rank\n",
        "\n",
        "        #######\n",
        "\n",
        "        # Define lora weights matrices for each layer in pretrained model\n",
        "        #######\n",
        "        self.l1_lora_A = nn.Parameter(torch.empty(self.pretrained_net.linear1.in_features, self.lora_rank))\n",
        "        self.l1_lora_B = nn.Parameter(torch.empty(self.lora_rank, self.pretrained_net.linear1.out_features))\n",
        "        self.l2_lora_A = nn.Parameter(torch.empty(self.pretrained_net.linear2.in_features, self.lora_rank))\n",
        "        self.l2_lora_B = nn.Parameter(torch.empty(self.lora_rank, self.pretrained_net.linear2.out_features))\n",
        "        self.l3_lora_A = nn.Parameter(torch.empty(self.pretrained_net.linear3.in_features, self.lora_rank))\n",
        "        self.l3_lora_B = nn.Parameter(torch.empty(self.lora_rank, self.pretrained_net.linear3.out_features))\n",
        "        #######\n",
        "\n",
        "        # Initialization for lora layers\n",
        "        #######\n",
        "        nn.init.kaiming_normal_(self.l1_lora_A)\n",
        "        nn.init.kaiming_normal_(self.l2_lora_A)\n",
        "        nn.init.kaiming_normal_(self.l3_lora_A)\n",
        "\n",
        "        nn.init.zeros_(self.l1_lora_B)\n",
        "        nn.init.zeros_(self.l2_lora_B)\n",
        "        nn.init.zeros_(self.l3_lora_B)\n",
        "        #######\n",
        "\n",
        "        # freeze non lora weights\n",
        "        #######\n",
        "        for param in self.pretrained_net.parameters():\n",
        "          param.requires_grad = False\n",
        "        #######\n",
        "\n",
        "    def lora_linear(self, x, layer, lora_A, lora_B):\n",
        "        #Implement formula (3) in arxiv.org/pdf/2106.09685.pdf\n",
        "        h = F.linear(x, layer.weight) + F.linear(x, (lora_A @ lora_B).t())\n",
        "        return h\n",
        "\n",
        "\n",
        "    def forward(self, input):\n",
        "        x = input.view(-1, 28*28)\n",
        "\n",
        "        # layer 1 (input size, hidden size)\n",
        "        x = self.lora_linear(x, self.pretrained_net.linear1, self.l1_lora_A, self.l1_lora_B)\n",
        "        x = self.relu(x)\n",
        "        x = self.dropout(x)\n",
        "\n",
        "        #complete the remaining code (layer 2 and 3)\n",
        "        #######\n",
        "        x = self.lora_linear(x, self.pretrained_net.linear2, self.l2_lora_A, self.l2_lora_B)\n",
        "        x = self.relu(x)\n",
        "        x = self.dropout(x)\n",
        "\n",
        "        x = self.lora_linear(x, self.pretrained_net.linear3, self.l3_lora_A, self.l3_lora_B)\n",
        "        x = self.relu(x)\n",
        "        x = self.dropout(x)\n",
        "        #######\n",
        "\n",
        "        return x\n",
        "\n",
        "lora_rank=1\n",
        "# Create an instance of the modified network\n",
        "modified_net = ModifiedClassifier(lora_rank).to(device)"
      ],
      "id": "2EGAZqrjPqpl"
    },
    {
      "cell_type": "markdown",
      "metadata": {
        "cell_ktag": "fpB/LOm/P3FD",
        "id": "KgxqPVtoPqpl"
      },
      "source": [
        "Make a function that counts the number of parameters introduced by lora ( use the function torch.numel() )"
      ],
      "id": "KgxqPVtoPqpl"
    },
    {
      "cell_type": "code",
      "execution_count": 22,
      "metadata": {
        "cell_ktag": "fpB/LOm/P3FD",
        "id": "qUqMf-6QPqpl"
      },
      "outputs": [],
      "source": [
        "# Count the parameters introduced by lora layers\n",
        "#######\n",
        "def count_lora_parameters(classifier):\n",
        "    lora_parameters = [\n",
        "        classifier.l1_lora_A,\n",
        "        classifier.l1_lora_B,\n",
        "        classifier.l2_lora_A,\n",
        "        classifier.l2_lora_B,\n",
        "        classifier.l3_lora_A,\n",
        "        classifier.l3_lora_B\n",
        "    ]\n",
        "\n",
        "    total_lora_params = sum(torch.numel(param) for param in lora_parameters)\n",
        "    return total_lora_params\n",
        "#######"
      ],
      "id": "qUqMf-6QPqpl"
    },
    {
      "cell_type": "markdown",
      "metadata": {
        "cell_ktag": "fpB/LOm/P3FD",
        "id": "GtU40L1wPqpm"
      },
      "source": [
        "# Fine-Tune using LoRA of rank 1"
      ],
      "id": "GtU40L1wPqpm"
    },
    {
      "cell_type": "markdown",
      "metadata": {
        "cell_ktag": "fpB/LOm/P3FD",
        "id": "tR-S1U2sPqpm"
      },
      "source": [
        "__Question 5 (0.5 points) :__"
      ],
      "id": "tR-S1U2sPqpm"
    },
    {
      "cell_type": "code",
      "execution_count": 25,
      "metadata": {
        "cell_ktag": "fpB/LOm/P3FD",
        "colab": {
          "base_uri": "https://localhost:8080/"
        },
        "id": "chZzpmDiPqpm",
        "outputId": "2dc542af-1265-44b7-b575-d0453efcb01e"
      },
      "outputs": [
        {
          "output_type": "stream",
          "name": "stderr",
          "text": [
            "Training: 100%|██████████| 161/161 [00:20<00:00,  7.71it/s, loss=5.24]\n"
          ]
        },
        {
          "output_type": "stream",
          "name": "stdout",
          "text": [
            "Epoch [1/10] Train Loss: 5.239562090879642\n"
          ]
        },
        {
          "output_type": "stream",
          "name": "stderr",
          "text": [
            "Validation: 100%|██████████| 69/69 [00:05<00:00, 13.59it/s, loss=3.89]\n"
          ]
        },
        {
          "output_type": "stream",
          "name": "stdout",
          "text": [
            "Epoch [1/10] Validation Loss: 3.891770563263824\n"
          ]
        },
        {
          "output_type": "stream",
          "name": "stderr",
          "text": [
            "Training: 100%|██████████| 161/161 [00:19<00:00,  8.13it/s, loss=5.07]\n"
          ]
        },
        {
          "output_type": "stream",
          "name": "stdout",
          "text": [
            "Epoch [2/10] Train Loss: 5.070416891796989\n"
          ]
        },
        {
          "output_type": "stream",
          "name": "stderr",
          "text": [
            "Validation: 100%|██████████| 69/69 [00:04<00:00, 14.22it/s, loss=3.78]\n"
          ]
        },
        {
          "output_type": "stream",
          "name": "stdout",
          "text": [
            "Epoch [2/10] Validation Loss: 3.7840093184208525\n"
          ]
        },
        {
          "output_type": "stream",
          "name": "stderr",
          "text": [
            "Training: 100%|██████████| 161/161 [00:20<00:00,  8.00it/s, loss=4.93]\n"
          ]
        },
        {
          "output_type": "stream",
          "name": "stdout",
          "text": [
            "Epoch [3/10] Train Loss: 4.927752474079961\n"
          ]
        },
        {
          "output_type": "stream",
          "name": "stderr",
          "text": [
            "Validation: 100%|██████████| 69/69 [00:04<00:00, 13.96it/s, loss=3.67]\n"
          ]
        },
        {
          "output_type": "stream",
          "name": "stdout",
          "text": [
            "Epoch [3/10] Validation Loss: 3.670763979787412\n"
          ]
        },
        {
          "output_type": "stream",
          "name": "stderr",
          "text": [
            "Training: 100%|██████████| 161/161 [00:20<00:00,  8.00it/s, loss=4.71]\n"
          ]
        },
        {
          "output_type": "stream",
          "name": "stdout",
          "text": [
            "Epoch [4/10] Train Loss: 4.713777035659885\n"
          ]
        },
        {
          "output_type": "stream",
          "name": "stderr",
          "text": [
            "Validation: 100%|██████████| 69/69 [00:04<00:00, 13.90it/s, loss=3.54]\n"
          ]
        },
        {
          "output_type": "stream",
          "name": "stdout",
          "text": [
            "Epoch [4/10] Validation Loss: 3.539551423943561\n"
          ]
        },
        {
          "output_type": "stream",
          "name": "stderr",
          "text": [
            "Training: 100%|██████████| 161/161 [00:20<00:00,  8.03it/s, loss=4.59]\n"
          ]
        },
        {
          "output_type": "stream",
          "name": "stdout",
          "text": [
            "Epoch [5/10] Train Loss: 4.591816839964493\n"
          ]
        },
        {
          "output_type": "stream",
          "name": "stderr",
          "text": [
            "Validation: 100%|██████████| 69/69 [00:04<00:00, 13.83it/s, loss=3.37]\n"
          ]
        },
        {
          "output_type": "stream",
          "name": "stdout",
          "text": [
            "Epoch [5/10] Validation Loss: 3.3664394668910815\n"
          ]
        },
        {
          "output_type": "stream",
          "name": "stderr",
          "text": [
            "Training: 100%|██████████| 161/161 [00:20<00:00,  7.67it/s, loss=4.29]\n"
          ]
        },
        {
          "output_type": "stream",
          "name": "stdout",
          "text": [
            "Epoch [6/10] Train Loss: 4.289414736054699\n"
          ]
        },
        {
          "output_type": "stream",
          "name": "stderr",
          "text": [
            "Validation: 100%|██████████| 69/69 [00:05<00:00, 13.74it/s, loss=3.14]\n"
          ]
        },
        {
          "output_type": "stream",
          "name": "stdout",
          "text": [
            "Epoch [6/10] Validation Loss: 3.1424338852149853\n"
          ]
        },
        {
          "output_type": "stream",
          "name": "stderr",
          "text": [
            "Training: 100%|██████████| 161/161 [00:20<00:00,  8.01it/s, loss=3.88]\n"
          ]
        },
        {
          "output_type": "stream",
          "name": "stdout",
          "text": [
            "Epoch [7/10] Train Loss: 3.884906928731788\n"
          ]
        },
        {
          "output_type": "stream",
          "name": "stderr",
          "text": [
            "Validation: 100%|██████████| 69/69 [00:05<00:00, 13.39it/s, loss=2.9]\n"
          ]
        },
        {
          "output_type": "stream",
          "name": "stdout",
          "text": [
            "Epoch [7/10] Validation Loss: 2.898957318153934\n"
          ]
        },
        {
          "output_type": "stream",
          "name": "stderr",
          "text": [
            "Training: 100%|██████████| 161/161 [00:20<00:00,  7.95it/s, loss=3.65]\n"
          ]
        },
        {
          "output_type": "stream",
          "name": "stdout",
          "text": [
            "Epoch [8/10] Train Loss: 3.6542095042163543\n"
          ]
        },
        {
          "output_type": "stream",
          "name": "stderr",
          "text": [
            "Validation: 100%|██████████| 69/69 [00:05<00:00, 13.59it/s, loss=2.68]\n"
          ]
        },
        {
          "output_type": "stream",
          "name": "stdout",
          "text": [
            "Epoch [8/10] Validation Loss: 2.6785906259564385\n"
          ]
        },
        {
          "output_type": "stream",
          "name": "stderr",
          "text": [
            "Training: 100%|██████████| 161/161 [00:20<00:00,  7.89it/s, loss=3.36]\n"
          ]
        },
        {
          "output_type": "stream",
          "name": "stdout",
          "text": [
            "Epoch [9/10] Train Loss: 3.3570916393528814\n"
          ]
        },
        {
          "output_type": "stream",
          "name": "stderr",
          "text": [
            "Validation: 100%|██████████| 69/69 [00:05<00:00, 13.41it/s, loss=2.51]\n"
          ]
        },
        {
          "output_type": "stream",
          "name": "stdout",
          "text": [
            "Epoch [9/10] Validation Loss: 2.5120996409568233\n"
          ]
        },
        {
          "output_type": "stream",
          "name": "stderr",
          "text": [
            "Training: 100%|██████████| 161/161 [00:20<00:00,  7.88it/s, loss=3.05]\n"
          ]
        },
        {
          "output_type": "stream",
          "name": "stdout",
          "text": [
            "Epoch [10/10] Train Loss: 3.053065836059381\n"
          ]
        },
        {
          "output_type": "stream",
          "name": "stderr",
          "text": [
            "Validation: 100%|██████████| 69/69 [00:05<00:00, 13.45it/s, loss=2.4]"
          ]
        },
        {
          "output_type": "stream",
          "name": "stdout",
          "text": [
            "Epoch [10/10] Validation Loss: 2.402114899262138\n"
          ]
        },
        {
          "output_type": "stream",
          "name": "stderr",
          "text": [
            "\n"
          ]
        }
      ],
      "source": [
        "#Fine tune this new model with loras of rank 1, on MNIST 5...9\n",
        "#######\n",
        "modified_net = ModifiedClassifier(lora_rank = 1)\n",
        "train_loss_lst, val_loss_lst = train(train_loader_subset2, val_loader_subset2, \"subset2\", modified_net, epochs=10)\n",
        "#######"
      ],
      "id": "chZzpmDiPqpm"
    },
    {
      "cell_type": "code",
      "execution_count": 44,
      "metadata": {
        "cell_ktag": "fpB/LOm/P3FD",
        "colab": {
          "base_uri": "https://localhost:8080/"
        },
        "id": "VpC5FUUBPqpm",
        "outputId": "cb7e02d0-14c5-4130-bc6f-600a74bac6e5"
      },
      "outputs": [
        {
          "output_type": "stream",
          "name": "stdout",
          "text": [
            "Frozen parameters remain unchagned!\n"
          ]
        }
      ],
      "source": [
        "# Check that the frozen parameters are still unchanged by the finetuning\n",
        "# Remember the dictionary \"original_weights\"\n",
        "#######\n",
        "index = 0\n",
        "original_weights = list(modified_net.original_weights.values())\n",
        "unchanged = True\n",
        "for name, param in list(modified_net.named_parameters())[6:]:\n",
        "  if not torch.equal(param, original_weights[index]):\n",
        "    print(f'{name} changed!')\n",
        "    unchanged = False\n",
        "  index += 1\n",
        "\n",
        "if unchanged == True:\n",
        "  print('Frozen parameters remain unchagned!')\n",
        "\n",
        "# for name, param in modified_net.named_parameters():\n",
        "#   print(f'{name}: original: {modified_net.original_weights[name]}, after-tuning: {param}')\n",
        "#######"
      ],
      "id": "VpC5FUUBPqpm"
    },
    {
      "cell_type": "code",
      "execution_count": 45,
      "metadata": {
        "cell_ktag": "fpB/LOm/P3FD",
        "colab": {
          "base_uri": "https://localhost:8080/",
          "height": 430
        },
        "id": "2OyX7D0UPqpm",
        "outputId": "fc23f9d5-5b1d-4b0c-e022-6c3ec55cd302"
      },
      "outputs": [
        {
          "output_type": "display_data",
          "data": {
            "text/plain": [
              "<Figure size 640x480 with 1 Axes>"
            ],
            "image/png": "[encoded data removed]"
          },
          "metadata": {}
        }
      ],
      "source": [
        "#plot losses\n",
        "#######\n",
        "plot_losses(train_loss_lst,val_loss_lst)\n",
        "#######"
      ],
      "id": "2OyX7D0UPqpm"
    },
    {
      "cell_type": "code",
      "execution_count": 46,
      "metadata": {
        "cell_ktag": "fpB/LOm/P3FD",
        "colab": {
          "base_uri": "https://localhost:8080/"
        },
        "id": "ratZK80YPqpm",
        "outputId": "c3cea285-fdd5-4268-aa97-636e9673d4a1"
      },
      "outputs": [
        {
          "output_type": "stream",
          "name": "stderr",
          "text": [
            "subset2: 100%|██████████| 38/38 [00:02<00:00, 12.92it/s]"
          ]
        },
        {
          "output_type": "stream",
          "name": "stdout",
          "text": [
            "Accuracy: 0.311\n",
            "Wrong counts for the digit 5: 293\n",
            "Wrong counts for the digit 6: 942\n",
            "Wrong counts for the digit 7: 770\n",
            "Wrong counts for the digit 8: 910\n",
            "Wrong counts for the digit 9: 436\n",
            "Accuracy: 0.311\n"
          ]
        },
        {
          "output_type": "stream",
          "name": "stderr",
          "text": [
            "\n"
          ]
        }
      ],
      "source": [
        "#Compute test accuracy on MNIST 5...9 for that lora rank\n",
        "#######\n",
        "fine_tune_subset2_acc = test(test_loader_subset2, \"subset2\", modified_net, {i: 0 for i in [5, 6, 7, 8, 9]})\n",
        "print('Accuracy: %.3f' %fine_tune_subset2_acc)\n",
        "#######"
      ],
      "id": "ratZK80YPqpm"
    },
    {
      "cell_type": "markdown",
      "metadata": {
        "cell_ktag": "fpB/LOm/P3FD",
        "id": "QNZ8WFNMPqpn"
      },
      "source": [
        "# Try different LoRA rank"
      ],
      "id": "QNZ8WFNMPqpn"
    },
    {
      "cell_type": "markdown",
      "metadata": {
        "cell_ktag": "fpB/LOm/P3FD",
        "id": "YJ68ZyN1Pqpn"
      },
      "source": [
        "__Question 6 (4 points) :__"
      ],
      "id": "YJ68ZyN1Pqpn"
    },
    {
      "cell_type": "markdown",
      "metadata": {
        "cell_ktag": "fpB/LOm/P3FD",
        "id": "CgaYwfIUPqpn"
      },
      "source": [
        "Fine-tune the pre-trained model using different lora ranks [1,2,4,8,16,32,64], evaluate it on the test set\n",
        "and store the number of parameters added\n",
        "\n",
        "Make a plot showing the test accuracy as a function of lora rank. \\\n",
        "Compare it to the test accuracy of the pre-trained model fine-tuned in the usual way on MNIST 5...9\n",
        "\n",
        "Conclude by looking at the number of parameters added\n",
        "\n",
        "Discuss what are the pros of LoRA, what possible applications do you envision for it ?"
      ],
      "id": "CgaYwfIUPqpn"
    },
    {
      "cell_type": "code",
      "execution_count": null,
      "metadata": {
        "cell_ktag": "fpB/LOm/P3FD",
        "id": "t-FEC48WPqpn"
      },
      "outputs": [],
      "source": [],
      "id": "t-FEC48WPqpn"
    }
  ],
  "metadata": {
    "kernelspec": {
      "display_name": "Python 3",
      "name": "python3"
    },
    "kfiletag": "fpB/LOm/P3FD",
    "language_info": {
      "codemirror_mode": {
        "name": "ipython",
        "version": 3
      },
      "file_extension": ".py",
      "mimetype": "text/x-python",
      "name": "python",
      "nbconvert_exporter": "python",
      "pygments_lexer": "ipython3",
      "version": "3.7.6"
    },
    "colab": {
      "provenance": [],
      "gpuType": "T4"
    },
    "accelerator": "GPU"
  },
  "nbformat": 4,
  "nbformat_minor": 5
}